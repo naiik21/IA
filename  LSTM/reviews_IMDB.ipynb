{
 "cells": [
  {
   "cell_type": "code",
   "execution_count": 1,
   "metadata": {},
   "outputs": [],
   "source": [
    "import torch\n",
    "from torch.utils.data import DataLoader, random_split, Dataset\n",
    "from torch import nn\n",
    "import pandas as pd"
   ]
  },
  {
   "cell_type": "code",
   "execution_count": 2,
   "metadata": {},
   "outputs": [],
   "source": [
    "class imdb50reviws_dataset(Dataset):\n",
    "    def __init__(self, csv, tokenizer):\n",
    "        df=pd.read_csv(csv)\n",
    "        df=df.replace(\"positive\",1)\n",
    "        df=df.replace(\"negative\",0)\n",
    "        self.x=df[\"review\"]\n",
    "        self.y=df[\"sentiment\"]\n",
    "        self.tokenizer=tokenizer\n",
    "        \n",
    "    def __len__(self):\n",
    "        return len(self.y)\n",
    "\n",
    "    def __getitem__(self, idx):\n",
    "        sentence=self.x[idx]\n",
    "        tokens= self.tokenizer.encode(sentence, max_length=100, pad_to_max_length=True)\n",
    "        y_logs=nn.functional.one_hot(torch.tensor(self.y[idx]),2)\n",
    "        return torch.Tensor(tokens), y_logs"
   ]
  },
  {
   "cell_type": "code",
   "execution_count": 3,
   "metadata": {},
   "outputs": [
    {
     "name": "stderr",
     "output_type": "stream",
     "text": [
      "/home/iticbcn/Escritorio/CE/IA/Virtualsenv/pyTorch/lib/python3.10/site-packages/tqdm/auto.py:21: TqdmWarning: IProgress not found. Please update jupyter and ipywidgets. See https://ipywidgets.readthedocs.io/en/stable/user_install.html\n",
      "  from .autonotebook import tqdm as notebook_tqdm\n",
      "Truncation was not explicitly activated but `max_length` is provided a specific value, please use `truncation=True` to explicitly truncate examples to max length. Defaulting to 'longest_first' truncation strategy. If you encode pairs of sequences (GLUE-style) with the tokenizer you can select this strategy more precisely by providing a specific strategy to `truncation`.\n"
     ]
    },
    {
     "name": "stdout",
     "output_type": "stream",
     "text": [
      "Tokens: {'input_ids': [101, 7570, 2721, 1010, 21864, 10624, 4372, 7913, 11802, 4895, 2944, 2080, 1048, 3367, 2213, 9530, 4895, 19204, 17629, 1012, 102, 0, 0, 0, 0, 0, 0, 0, 0, 0, 0, 0, 0, 0, 0, 0, 0, 0, 0, 0, 0, 0, 0, 0, 0, 0, 0, 0, 0, 0, 0, 0, 0, 0, 0, 0, 0, 0, 0, 0, 0, 0, 0, 0, 0, 0, 0, 0, 0, 0, 0, 0, 0, 0, 0, 0, 0, 0, 0, 0, 0, 0, 0, 0, 0, 0, 0, 0, 0, 0, 0, 0, 0, 0, 0, 0, 0, 0, 0, 0], 'token_type_ids': [0, 0, 0, 0, 0, 0, 0, 0, 0, 0, 0, 0, 0, 0, 0, 0, 0, 0, 0, 0, 0, 0, 0, 0, 0, 0, 0, 0, 0, 0, 0, 0, 0, 0, 0, 0, 0, 0, 0, 0, 0, 0, 0, 0, 0, 0, 0, 0, 0, 0, 0, 0, 0, 0, 0, 0, 0, 0, 0, 0, 0, 0, 0, 0, 0, 0, 0, 0, 0, 0, 0, 0, 0, 0, 0, 0, 0, 0, 0, 0, 0, 0, 0, 0, 0, 0, 0, 0, 0, 0, 0, 0, 0, 0, 0, 0, 0, 0, 0, 0], 'attention_mask': [1, 1, 1, 1, 1, 1, 1, 1, 1, 1, 1, 1, 1, 1, 1, 1, 1, 1, 1, 1, 1, 0, 0, 0, 0, 0, 0, 0, 0, 0, 0, 0, 0, 0, 0, 0, 0, 0, 0, 0, 0, 0, 0, 0, 0, 0, 0, 0, 0, 0, 0, 0, 0, 0, 0, 0, 0, 0, 0, 0, 0, 0, 0, 0, 0, 0, 0, 0, 0, 0, 0, 0, 0, 0, 0, 0, 0, 0, 0, 0, 0, 0, 0, 0, 0, 0, 0, 0, 0, 0, 0, 0, 0, 0, 0, 0, 0, 0, 0, 0]}\n"
     ]
    },
    {
     "name": "stderr",
     "output_type": "stream",
     "text": [
      "/home/iticbcn/Escritorio/CE/IA/Virtualsenv/pyTorch/lib/python3.10/site-packages/transformers/tokenization_utils_base.py:2681: FutureWarning: The `pad_to_max_length` argument is deprecated and will be removed in a future version, use `padding=True` or `padding='longest'` to pad to the longest sequence in the batch, or use `padding='max_length'` to pad to a max length. In this case, you can give a specific length with `max_length` (e.g. `max_length=45`) or leave max_length to None to pad to the maximal input size of the model (e.g. 512 for Bert).\n",
      "  warnings.warn(\n"
     ]
    }
   ],
   "source": [
    "from transformers import AutoTokenizer\n",
    "\n",
    "# Descarga un tokenizer preentrenado (por ejemplo, BERT)\n",
    "tokenizer = AutoTokenizer.from_pretrained(\"bert-base-uncased\")\n",
    "\n",
    "# Tokeniza un texto\n",
    "texto = \"Hola, quiero entrenar un modelo LSTM con un tokenizer.\"\n",
    "tokens = tokenizer(texto, max_length=100, pad_to_max_length=True)   \n",
    "\n",
    "print(\"Tokens:\", tokens)\n"
   ]
  },
  {
   "cell_type": "code",
   "execution_count": 4,
   "metadata": {},
   "outputs": [
    {
     "name": "stderr",
     "output_type": "stream",
     "text": [
      "/home/iticbcn/Escritorio/CE/IA/Virtualsenv/pyTorch/lib/python3.10/site-packages/torch/cuda/__init__.py:129: UserWarning: CUDA initialization: CUDA unknown error - this may be due to an incorrectly set up environment, e.g. changing env variable CUDA_VISIBLE_DEVICES after program start. Setting the available devices to be zero. (Triggered internally at ../c10/cuda/CUDAFunctions.cpp:108.)\n",
      "  return torch._C._cuda_getDeviceCount() > 0\n"
     ]
    },
    {
     "name": "stdout",
     "output_type": "stream",
     "text": [
      "Using cpu device\n"
     ]
    }
   ],
   "source": [
    "# Get cpu, gpu or mps device for training.\n",
    "device = (\n",
    "    \"cuda\"\n",
    "    if torch.cuda.is_available()\n",
    "    else \"mps\"\n",
    "    if torch.backends.mps.is_available()\n",
    "    else \"cpu\"\n",
    ")\n",
    "print(f\"Using {device} device\")\n",
    "\n",
    "# Define model\n",
    "class LSTM_model(nn.Module):\n",
    "    def __init__(self, vocab_size, embed_size=64, hidden_size=128):\n",
    "        super(LSTM_model, self).__init__()\n",
    "        self.embed= nn.Embedding(vocab_size, embed_size)\n",
    "        self.h0=torch.zeros(1, 1, hidden_size)\n",
    "        self.c0=torch.zeros(1, 1, hidden_size)\n",
    "        self.encoder=nn.LSTM(embed_size, hidden_size, num_layers=100, bidirectional=True)\n",
    "        self.linear = nn.Sequential(\n",
    "            nn.ReLU(),\n",
    "            nn.Linear(hidden_size*2, 2)\n",
    "        )\n",
    "        \n",
    "\n",
    "    def forward(self, x):\n",
    "        x = x.long()\n",
    "        emb = self.embed(x)\n",
    "        out_encod, (hn, cn)=self.encoder(emb)\n",
    "        logits = self.linear(out_encod)\n",
    "        return logits\n"
   ]
  },
  {
   "cell_type": "code",
   "execution_count": 5,
   "metadata": {},
   "outputs": [],
   "source": [
    "def train(dataloader, model, loss_fn, optimizer):\n",
    "    size = len(dataloader.dataset)\n",
    "    # Set the model to training mode - important for batch normalization and dropout layers\n",
    "    # Unnecessary in this situation but added for best practices\n",
    "    model.train()\n",
    "    for batch, (X, y) in enumerate(dataloader):\n",
    "        X, y = X.to(device), y.to(device)\n",
    "        \n",
    "        # Compute prediction and loss\n",
    "        pred = model(X)\n",
    "        loss = loss_fn(pred, y)\n",
    "\n",
    "        # Backpropagation\n",
    "        loss.backward()\n",
    "        optimizer.step()\n",
    "        optimizer.zero_grad()\n",
    "\n",
    "        if batch % 100 == 0:\n",
    "            loss, current = loss.item(), (batch + 1) * len(X)\n",
    "            print(f\"loss: {loss:>7f}  [{current:>5d}/{size:>5d}]\")\n",
    "            \n",
    "            \n",
    "def test(dataloader, model, loss_fn):\n",
    "    # Set the model to evaluation mode - important for batch normalization and dropout layers\n",
    "    # Unnecessary in this situation but added for best practices\n",
    "    size = len(dataloader.dataset)\n",
    "    num_batches = len(dataloader)\n",
    "    model.eval()\n",
    "    test_loss, correct = 0, 0\n",
    "    \n",
    "    # Evaluating the model with torch.no_grad() ensures that no gradients are computed during test mode\n",
    "    # also serves to reduce unnecessary gradient computations and memory usage for tensors with requires_grad=True\n",
    "    with torch.no_grad():\n",
    "        for X, y in dataloader:\n",
    "            X, y = X.to(device), y.to(device)\n",
    "            pred = model(X)\n",
    "            test_loss += loss_fn(pred, y).item()\n",
    "            correct += (pred.argmax(1) == y).type(torch.float).sum().item()\n",
    "    test_loss /= num_batches\n",
    "    correct /= size\n",
    "    print(f\"Test Error: \\n Accuracy: {(100*correct):>0.1f}%, Avg loss: {test_loss:>8f} \\n\")"
   ]
  },
  {
   "cell_type": "code",
   "execution_count": null,
   "metadata": {},
   "outputs": [
    {
     "name": "stderr",
     "output_type": "stream",
     "text": [
      "/tmp/ipykernel_21786/4074689013.py:5: FutureWarning: Downcasting behavior in `replace` is deprecated and will be removed in a future version. To retain the old behavior, explicitly call `result.infer_objects(copy=False)`. To opt-in to the future behavior, set `pd.set_option('future.no_silent_downcasting', True)`\n",
      "  df=df.replace(\"negative\",0)\n",
      "/home/iticbcn/Escritorio/CE/IA/Virtualsenv/pyTorch/lib/python3.10/site-packages/transformers/tokenization_utils_base.py:2681: FutureWarning: The `pad_to_max_length` argument is deprecated and will be removed in a future version, use `padding=True` or `padding='longest'` to pad to the longest sequence in the batch, or use `padding='max_length'` to pad to a max length. In this case, you can give a specific length with `max_length` (e.g. `max_length=45`) or leave max_length to None to pad to the maximal input size of the model (e.g. 512 for Bert).\n",
      "  warnings.warn(\n"
     ]
    },
    {
     "name": "stdout",
     "output_type": "stream",
     "text": [
      "Epoch 1\n",
      "-------------------------------\n",
      "loss: 4.605171  [   64/   80]\n",
      "Test Error: \n",
      " Accuracy: 21.1%, Avg loss: 4.605170 \n",
      "\n",
      "Epoch 2\n",
      "-------------------------------\n",
      "loss: 4.605171  [   64/   80]\n",
      "Test Error: \n",
      " Accuracy: 10.5%, Avg loss: 4.605170 \n",
      "\n",
      "Epoch 3\n",
      "-------------------------------\n",
      "loss: 4.605171  [   64/   80]\n",
      "Test Error: \n",
      " Accuracy: 10.5%, Avg loss: 4.605170 \n",
      "\n",
      "Epoch 4\n",
      "-------------------------------\n",
      "loss: 4.605171  [   64/   80]\n",
      "Test Error: \n",
      " Accuracy: 36.8%, Avg loss: 4.605170 \n",
      "\n",
      "Epoch 5\n",
      "-------------------------------\n",
      "loss: 4.605171  [   64/   80]\n",
      "Test Error: \n",
      " Accuracy: 21.1%, Avg loss: 4.605170 \n",
      "\n",
      "Epoch 6\n",
      "-------------------------------\n",
      "loss: 4.605171  [   64/   80]\n",
      "Test Error: \n",
      " Accuracy: 31.6%, Avg loss: 4.605170 \n",
      "\n",
      "Epoch 7\n",
      "-------------------------------\n",
      "loss: 4.605171  [   64/   80]\n",
      "Test Error: \n",
      " Accuracy: 31.6%, Avg loss: 4.605170 \n",
      "\n",
      "Epoch 8\n",
      "-------------------------------\n",
      "loss: 4.605171  [   64/   80]\n",
      "Test Error: \n",
      " Accuracy: 21.1%, Avg loss: 4.605170 \n",
      "\n",
      "Epoch 9\n",
      "-------------------------------\n",
      "loss: 4.605171  [   64/   80]\n",
      "Test Error: \n",
      " Accuracy: 21.1%, Avg loss: 4.605170 \n",
      "\n",
      "Epoch 10\n",
      "-------------------------------\n",
      "loss: 4.605171  [   64/   80]\n",
      "Test Error: \n",
      " Accuracy: 15.8%, Avg loss: 4.605170 \n",
      "\n",
      "Epoch 11\n",
      "-------------------------------\n"
     ]
    }
   ],
   "source": [
    "batch_size =64\n",
    "epochs =50\n",
    "lr= 0.003\n",
    "\n",
    "def main(batch_size, epochs, lr):    \n",
    "    dataset = imdb50reviws_dataset(\"./prueba.csv\", tokenizer)\n",
    "    \n",
    "    train_dataset, test_dataset = random_split(dataset, [0.8, 0.2])\n",
    "    \n",
    "    train_loader = DataLoader(train_dataset, batch_size, shuffle=True)\n",
    "    test_loader = DataLoader(test_dataset, batch_size, shuffle=True)\n",
    "    \n",
    "    model = LSTM_model(vocab_size=tokenizer.vocab_size).to(device)\n",
    "    \n",
    "    \n",
    "    loss_fn = nn.CrossEntropyLoss()\n",
    "    optimizer = torch.optim.Adam(model.parameters(), lr)\n",
    "    \n",
    "    for t in range(epochs):\n",
    "        print(f\"Epoch {t+1}\\n-------------------------------\")\n",
    "        train(train_loader, model, loss_fn, optimizer)\n",
    "        test(test_loader, model, loss_fn)\n",
    "    print(\"Done!\")\n",
    "    \n",
    "    \n",
    "main(batch_size, epochs, lr)"
   ]
  }
 ],
 "metadata": {
  "kernelspec": {
   "display_name": "pyTorch",
   "language": "python",
   "name": "python3"
  },
  "language_info": {
   "codemirror_mode": {
    "name": "ipython",
    "version": 3
   },
   "file_extension": ".py",
   "mimetype": "text/x-python",
   "name": "python",
   "nbconvert_exporter": "python",
   "pygments_lexer": "ipython3",
   "version": "3.10.12"
  }
 },
 "nbformat": 4,
 "nbformat_minor": 2
}
