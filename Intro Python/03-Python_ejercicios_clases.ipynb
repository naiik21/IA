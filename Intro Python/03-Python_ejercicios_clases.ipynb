{
 "cells": [
  {
   "cell_type": "markdown",
   "metadata": {},
   "source": [
    "---\n",
    "# Objetos\n",
    "\n",
    "Define la clase Baraja.\n",
    "Define el constructor de manera que le tengas que pasar una lista de \"palos\" y una lista de \"números\".\n",
    "\n",
    "Define la función \"shuffle\" y \"draw\". \n"
   ]
  },
  {
   "cell_type": "code",
   "execution_count": null,
   "metadata": {},
   "outputs": [],
   "source": []
  },
  {
   "cell_type": "markdown",
   "metadata": {},
   "source": [
    "Inicializa una baraja de poker, roba 5 cartas y muestralas por pantalla."
   ]
  },
  {
   "cell_type": "code",
   "execution_count": null,
   "metadata": {},
   "outputs": [],
   "source": []
  },
  {
   "cell_type": "markdown",
   "metadata": {},
   "source": [
    "Crees que vale la pena crear el objeto \"carta\"?\n",
    "\n",
    "Crea la clase carta y reescribe la clase baraja."
   ]
  },
  {
   "cell_type": "code",
   "execution_count": null,
   "metadata": {},
   "outputs": [],
   "source": []
  },
  {
   "cell_type": "markdown",
   "metadata": {},
   "source": [
    "Crea la clase \"hand\" con la función \"discard\", que en el caso del poker significa tirar todas las cartas.\n",
    "\n"
   ]
  },
  {
   "cell_type": "code",
   "execution_count": null,
   "metadata": {},
   "outputs": [],
   "source": []
  },
  {
   "cell_type": "markdown",
   "metadata": {},
   "source": [
    "Inicializa una baraja de \"hanabi\" y manos para 4 jugadores.\n",
    "\n",
    "Que modificarias de la clase \"hand\" para poder implementar el descarte del hanabi (descartar una carta y robar otra)?\n",
    "\n",
    "Hanabi:\n",
    "    5 cartas por jugador\n",
    "    5 palos (blanco, verde, rojo, amarillo y azul)\n",
    "    10 números por palo (3 unos, 2 doses, 2 treses, 2 cuatros, 1 cinco)\n"
   ]
  },
  {
   "cell_type": "code",
   "execution_count": null,
   "metadata": {},
   "outputs": [],
   "source": []
  }
 ],
 "metadata": {
  "kernelspec": {
   "display_name": "Python 3",
   "language": "python",
   "name": "python3"
  },
  "language_info": {
   "codemirror_mode": {
    "name": "ipython",
    "version": 3
   },
   "file_extension": ".py",
   "mimetype": "text/x-python",
   "name": "python",
   "nbconvert_exporter": "python",
   "pygments_lexer": "ipython3",
   "version": "3.10.7"
  }
 },
 "nbformat": 4,
 "nbformat_minor": 2
}
