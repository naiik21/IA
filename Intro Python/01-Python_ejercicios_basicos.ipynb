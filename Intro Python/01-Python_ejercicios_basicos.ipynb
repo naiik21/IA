{
 "cells": [
  {
   "cell_type": "markdown",
   "metadata": {
    "id": "rJARCvoR1PJd"
   },
   "source": [
    "En esta primera tanda de ejercicios trabajaremos los conocimientos básicos de python para afianzarlos y que trabajéis con el lenguaje con cierta soltura.\n"
   ]
  },
  {
   "cell_type": "markdown",
   "metadata": {
    "id": "lJ19ASh02ew7"
   },
   "source": [
    "---\n",
    "\n",
    "# Variables\n"
   ]
  },
  {
   "cell_type": "markdown",
   "metadata": {
    "id": "xr_1b_qo2lPj"
   },
   "source": [
    "### Ejercicio 1\n"
   ]
  },
  {
   "cell_type": "markdown",
   "metadata": {
    "id": "YZAna3pe4ul1"
   },
   "source": [
    "Define una variable llamada \"x\". Asignale el valor 5 y muestrala por pantalla:\n"
   ]
  },
  {
   "cell_type": "code",
   "execution_count": null,
   "metadata": {
    "executionInfo": {
     "elapsed": 3,
     "status": "ok",
     "timestamp": 1700063206966,
     "user": {
      "displayName": "Oriol Jaumà",
      "userId": "18149923969301658716"
     },
     "user_tz": -60
    },
    "id": "tgQ9FM7J2lzg"
   },
   "outputs": [],
   "source": [
    "x = 5\n",
    "print(x)"
   ]
  },
  {
   "cell_type": "markdown",
   "metadata": {
    "id": "OCpHLklW4vyT"
   },
   "source": [
    "### Ejercicio 2\n"
   ]
  },
  {
   "cell_type": "markdown",
   "metadata": {
    "id": "Bm5WURXM4OfZ"
   },
   "source": [
    "Define una variable llamada \"name\". Pide al usuario que introduzca su nombre y asígnalo a la variable. Por último, muestra el contenido de la variable por pantalla:\n"
   ]
  },
  {
   "cell_type": "code",
   "execution_count": null,
   "metadata": {
    "id": "AAnimlzu4as8"
   },
   "outputs": [],
   "source": [
    "nom= input('Diguem el teu nom:')\n",
    "print(nom)"
   ]
  },
  {
   "cell_type": "markdown",
   "metadata": {
    "id": "gQyc0-FU4yob"
   },
   "source": [
    "### Ejercicio 3\n"
   ]
  },
  {
   "cell_type": "markdown",
   "metadata": {
    "id": "aCsvw7PM4bag"
   },
   "source": [
    "Define una variable llamada \"data\". Asignale el valor 10 y muestra el tipo de la variable por pantalla:\n"
   ]
  },
  {
   "cell_type": "code",
   "execution_count": null,
   "metadata": {
    "id": "XH862Qm_4qvB"
   },
   "outputs": [],
   "source": [
    "datos=10\n",
    "print(type(datos))"
   ]
  },
  {
   "cell_type": "markdown",
   "metadata": {
    "id": "82At72Uh4rPi"
   },
   "source": [
    "### Ejercicio 4\n"
   ]
  },
  {
   "cell_type": "markdown",
   "metadata": {
    "id": "X3kOo-fX41qx"
   },
   "source": [
    "Define una variable llamada \"data\". Asignale el valor 10 y luego cambia su tipo a \"string\" manteniendo su contenido (transforma el 10 numérico a texto). Muestra el tipo de la variable tras la modificación:\n"
   ]
  },
  {
   "cell_type": "code",
   "execution_count": null,
   "metadata": {
    "id": "GiRRTgO05GmC"
   },
   "outputs": [],
   "source": [
    "datos=10\n",
    "datos=str(datos)\n",
    "print(type(datos))"
   ]
  },
  {
   "cell_type": "markdown",
   "metadata": {
    "id": "ftRBEuma5HGX"
   },
   "source": [
    "### Ejercicio 5\n"
   ]
  },
  {
   "cell_type": "markdown",
   "metadata": {
    "id": "JROYP9sk5JIF"
   },
   "source": [
    "Partiendo de que estamos en el año 2021, pide al usuario su año de nacimiento y calcula su edad (solo con el año). Muestra su edad por pantalla:\n"
   ]
  },
  {
   "cell_type": "code",
   "execution_count": null,
   "metadata": {
    "id": "t3J9onfr5TCd"
   },
   "outputs": [],
   "source": [
    "any= int(input('Diguem el teu any de naixement:'))\n",
    "edad= 2024-any\n",
    "print(edad)"
   ]
  },
  {
   "cell_type": "markdown",
   "metadata": {
    "id": "2hS7unzA5Tge"
   },
   "source": [
    "### Ejercicio 6\n"
   ]
  },
  {
   "cell_type": "markdown",
   "metadata": {
    "id": "V0Vvv7Mp5Uu6"
   },
   "source": [
    "Pide al usuario dos números y muestra por pantalla el resultado de la suma de los mismos:\n"
   ]
  },
  {
   "cell_type": "code",
   "execution_count": null,
   "metadata": {
    "id": "ObEaeHcp5cqw"
   },
   "outputs": [],
   "source": [
    "n1= int(input('Diguem un numero:'))\n",
    "n2= int(input('Diguem un altre numero:'))\n",
    "total= n1+n2\n",
    "print(total)"
   ]
  },
  {
   "cell_type": "markdown",
   "metadata": {
    "id": "H8TxHadG5c4I"
   },
   "source": [
    "### Ejercicio 7\n"
   ]
  },
  {
   "cell_type": "markdown",
   "metadata": {
    "id": "4x0CmyJt5eSF"
   },
   "source": [
    "Pide al usuario dos números, calcula la media de los mismos y muestrala por pantalla:\n"
   ]
  },
  {
   "cell_type": "code",
   "execution_count": null,
   "metadata": {
    "id": "J0oT42KZ5jjU"
   },
   "outputs": [],
   "source": [
    "n1= int(input('Diguem un numero:'))\n",
    "n2= int(input('Diguem un altre numero:'))\n",
    "sum= n1+n2\n",
    "total=sum/2\n",
    "print(int(total))"
   ]
  },
  {
   "cell_type": "markdown",
   "metadata": {
    "id": "vDx3w1mI5jwc"
   },
   "source": [
    "### Ejercicio 8\n"
   ]
  },
  {
   "cell_type": "markdown",
   "metadata": {
    "id": "IisTHG4a5l3G"
   },
   "source": [
    "Pide al usuario su nombre por un lado y luego su apellido. Concatenalos en una sola variable y muestra el resultado por pantalla:\n"
   ]
  },
  {
   "cell_type": "code",
   "execution_count": null,
   "metadata": {
    "id": "1z_retHA5scO"
   },
   "outputs": [],
   "source": [
    "nom= input('Diguem el teu nom:')\n",
    "cognom= input('Diguem el teu cognom:')\n",
    "nomCom= nom + ' ' + cognom\n",
    "print(nomCom)"
   ]
  },
  {
   "cell_type": "markdown",
   "metadata": {
    "id": "js5e9wHm2mKk"
   },
   "source": [
    "---\n",
    "\n",
    "# Colecciones de datos\n"
   ]
  },
  {
   "cell_type": "markdown",
   "metadata": {
    "id": "WiVrgDh22qEU"
   },
   "source": [
    "## Listas\n"
   ]
  },
  {
   "cell_type": "markdown",
   "metadata": {
    "id": "Y_wONBLS2u6s"
   },
   "source": [
    "### Ejercicio 9\n"
   ]
  },
  {
   "cell_type": "markdown",
   "metadata": {
    "id": "4a28Gykv6F3-"
   },
   "source": [
    "Define una lista de 5 elementos con los nombres de distintos colores. Muestrala por pantalla:\n"
   ]
  },
  {
   "cell_type": "code",
   "execution_count": null,
   "metadata": {
    "id": "YQNTPyrS2qRK"
   },
   "outputs": [],
   "source": [
    "colors= ['vermell', 'blau', 'verd', 'groc', 'lila']\n",
    "print(colors)"
   ]
  },
  {
   "cell_type": "markdown",
   "metadata": {
    "id": "wJkMrisc6Ruz"
   },
   "source": [
    "### Ejercicio 10\n"
   ]
  },
  {
   "cell_type": "markdown",
   "metadata": {
    "id": "N7bXlWMF6S74"
   },
   "source": [
    "Pide al usuario 3 numeros y añadelos a una lista. Muestra el contenido de la lista por pantalla:\n"
   ]
  },
  {
   "cell_type": "code",
   "execution_count": null,
   "metadata": {
    "id": "8QdB_C4u6g7o"
   },
   "outputs": [],
   "source": [
    "n1= int(input('Diguem un numero:'))\n",
    "n2= int(input('Diguem un altre numero:'))\n",
    "n3= int(input('Diguem un altre numero més:'))\n",
    "nums=[]\n",
    "nums.append(n1)\n",
    "nums.append(n2)\n",
    "nums.append(n3)\n",
    "print(nums)"
   ]
  },
  {
   "cell_type": "markdown",
   "metadata": {
    "id": "NFHaQWd66hMZ"
   },
   "source": [
    "### Ejercicio 11\n"
   ]
  },
  {
   "cell_type": "markdown",
   "metadata": {
    "id": "6OV3MuJu6iXe"
   },
   "source": [
    "Crea una lista de 10 numeros cualesquiera y muestrala por pantalla. Pide al usuario que introduzca uno de ellos y eliminalo de la lista (supongamos que el usuario siempre introducirá un número válido). Muestra la lista resultante por pantalla:\n"
   ]
  },
  {
   "cell_type": "code",
   "execution_count": null,
   "metadata": {
    "id": "m_5lQLx96wLg"
   },
   "outputs": [],
   "source": [
    "nums=[1,2,3,4,5,6,7,8,9,10]\n",
    "print(nums)\n",
    "n1= int(input('Diguem un numero:'))\n",
    "nums.remove(n1)\n",
    "print(nums)"
   ]
  },
  {
   "cell_type": "markdown",
   "metadata": {
    "id": "Bun0ONkM7BZG"
   },
   "source": [
    "### Ejercicio 12"
   ]
  },
  {
   "cell_type": "markdown",
   "metadata": {
    "id": "rGbk7qWB7C6r"
   },
   "source": [
    "Crea una lista con las estaciones del año. Pide al usuario que mencione la posición de una de ellas y elimínala de la lista. Muestra la lista resultante por pantalla:\n"
   ]
  },
  {
   "cell_type": "code",
   "execution_count": null,
   "metadata": {
    "id": "tRwJ5fpq7LyS"
   },
   "outputs": [],
   "source": [
    "estacions=['estiu', 'hivern', 'primavera', 'tardo']\n",
    "print(estacions)\n",
    "n1= int(input('Diguem un numero:'))\n",
    "estacions.pop(n1)\n",
    "print(estacions)"
   ]
  },
  {
   "cell_type": "markdown",
   "metadata": {
    "id": "oXzjEBvy7MFr"
   },
   "source": [
    "### Ejercicio 13\n"
   ]
  },
  {
   "cell_type": "markdown",
   "metadata": {
    "id": "CzZuVYz57QzQ"
   },
   "source": [
    "Crea una lista de al menos 5 elementos. Pide al usuario que introduzca cualquier valor por teclado y añádelo como un nuevo elemento al final. Muestra la lista resultante por pantalla:\n"
   ]
  },
  {
   "cell_type": "code",
   "execution_count": null,
   "metadata": {
    "id": "QtP1ro3_7bFN"
   },
   "outputs": [],
   "source": [
    "llista=[2, 'hivern', 'gato', 10]\n",
    "print(llista)\n",
    "cosa= input('Diguem alguna cosa:')\n",
    "llista.append(cosa)\n",
    "print(llista)"
   ]
  },
  {
   "cell_type": "markdown",
   "metadata": {
    "id": "5SZaf2Xq2vz1"
   },
   "source": [
    "## Tuplas\n"
   ]
  },
  {
   "cell_type": "markdown",
   "metadata": {
    "id": "bZ5dGuBy231y"
   },
   "source": [
    "### Ejercicio 14\n"
   ]
  },
  {
   "cell_type": "markdown",
   "metadata": {
    "id": "Zrdp-f277gMr"
   },
   "source": [
    "Crea una tupla con los siguientes valores: \"Hola\", 34, 18.43, \"Azul\". Muestra su contenido por pantalla:\n"
   ]
  },
  {
   "cell_type": "code",
   "execution_count": null,
   "metadata": {
    "id": "2WQVZAjy2zxP"
   },
   "outputs": [],
   "source": [
    "tupla=(\"Hola\", 34, 18.43, \"Azul\")\n",
    "print(tupla)"
   ]
  },
  {
   "cell_type": "markdown",
   "metadata": {
    "id": "PECgbd-Q7vX6"
   },
   "source": [
    "### Ejercicio 15\n"
   ]
  },
  {
   "cell_type": "markdown",
   "metadata": {
    "id": "u1hLFjP17xDu"
   },
   "source": [
    "Crea una tupla con al menos 3 valores. Elimina uno cualquiera de ellos y muestra la tupla resultante por pantalla:\n"
   ]
  },
  {
   "cell_type": "code",
   "execution_count": null,
   "metadata": {
    "id": "PRn6w09i75PZ"
   },
   "outputs": [],
   "source": [
    "tupla=(\"Hola\", 34, 18.43, \"Azul\")\n",
    "llista= list(tupla)\n",
    "llista.pop(2)\n",
    "tupla= tuple(llista)\n",
    "print(tupla)"
   ]
  },
  {
   "cell_type": "markdown",
   "metadata": {
    "id": "psRuGUUQ20Lh"
   },
   "source": [
    "## Sets\n"
   ]
  },
  {
   "cell_type": "markdown",
   "metadata": {
    "id": "nW9pamHi221J"
   },
   "source": [
    "### Ejercicio 16\n"
   ]
  },
  {
   "cell_type": "markdown",
   "metadata": {
    "id": "YQXw-tsA79sS"
   },
   "source": [
    "Crea un set con los siguientes datos: \"azul\", \"rojo\", 32, 45.42, \"veinte\". Muestralo por pantalla:\n"
   ]
  },
  {
   "cell_type": "code",
   "execution_count": null,
   "metadata": {
    "id": "7nP9B1gm23KR"
   },
   "outputs": [],
   "source": [
    "set={\"azul\", \"rojo\", 32, 45.42, \"veinte\"}\n",
    "print(set)"
   ]
  },
  {
   "cell_type": "markdown",
   "metadata": {
    "id": "mHKpXmMX8xaF"
   },
   "source": [
    "### Ejercicio 17\n"
   ]
  },
  {
   "cell_type": "markdown",
   "metadata": {
    "id": "5njs137u8y1m"
   },
   "source": [
    "Crea un set con al menos 5 datos de tu elección. Pide al usuario otro dato cualquiera y añádelo al set:\n"
   ]
  },
  {
   "cell_type": "code",
   "execution_count": null,
   "metadata": {
    "id": "cuQDlYv09GZA"
   },
   "outputs": [],
   "source": [
    "set={\"azul\", \"rojo\", 32, 45.42}\n",
    "cosa= input('Diguem alguna cosa:')\n",
    "set.add(cosa)\n",
    "print(set)"
   ]
  },
  {
   "cell_type": "markdown",
   "metadata": {
    "id": "qaJJajlj9HRC"
   },
   "source": [
    "### Ejercicio 18\n"
   ]
  },
  {
   "cell_type": "markdown",
   "metadata": {
    "id": "jNwNlwgs9IUj"
   },
   "source": [
    "Crea un set con al menos 3 elementos y muestralo por pantalla. Pide al usuario que introduzca uno de los tres elementos por teclado. Añadelo al set y muestra su contenido por pantalla:\n"
   ]
  },
  {
   "cell_type": "code",
   "execution_count": null,
   "metadata": {
    "id": "PWoKda8D9TZD"
   },
   "outputs": [],
   "source": [
    "set={\"azul\", \"rojo\", 32}\n",
    "print(set)\n",
    "cosa= input('Diguem un valor del set:')\n",
    "set.add(cosa)\n",
    "print(set)"
   ]
  },
  {
   "cell_type": "markdown",
   "metadata": {
    "id": "DyFhK_3n2409"
   },
   "source": [
    "## Diccionarios\n"
   ]
  },
  {
   "cell_type": "markdown",
   "metadata": {
    "id": "7VbNEyNs26Dv"
   },
   "source": [
    "### Ejercicio 19\n"
   ]
  },
  {
   "cell_type": "markdown",
   "metadata": {
    "id": "hHTPN30Q9iRv"
   },
   "source": [
    "Crea un diccionario con los siguientes elementos:\n",
    "\n",
    "- Nombre: Mikel\n",
    "- Edad: 42\n",
    "- Oficio: Profesor\n",
    "\n",
    "Muestra el contenido del diccionario por pantalla:\n"
   ]
  },
  {
   "cell_type": "code",
   "execution_count": null,
   "metadata": {
    "id": "pkytlMfM26V2"
   },
   "outputs": [],
   "source": [
    "diccionari={'nombre':'mikel', 'edad':42, 'oficio': 'Profesor'}\n",
    "print(diccionari)"
   ]
  },
  {
   "cell_type": "markdown",
   "metadata": {
    "id": "5L4khJzl93Ec"
   },
   "source": [
    "### Ejercicio 20\n"
   ]
  },
  {
   "cell_type": "markdown",
   "metadata": {
    "id": "qLWVwPh894NE"
   },
   "source": [
    "Añade la siguiente información al diccionario creado anteriormente:\n",
    "\n",
    "- Coche: Ferrari\n",
    "\n",
    "Muestra el contenido del diccionario por pantalla:\n"
   ]
  },
  {
   "cell_type": "code",
   "execution_count": null,
   "metadata": {
    "id": "VjnnfS9F-ck4"
   },
   "outputs": [],
   "source": [
    "diccionari={'nombre':'mikel', 'edad':42, 'oficio': 'Profesor'}\n",
    "diccionari['Coche']='Ferrai'\n",
    "print(diccionari)"
   ]
  },
  {
   "cell_type": "markdown",
   "metadata": {
    "id": "EjXCVVG4-dCM"
   },
   "source": [
    "Elimina la información referente a la edad del diccionario creado anteriormente y muestra su contenido por pantalla:\n"
   ]
  },
  {
   "cell_type": "code",
   "execution_count": null,
   "metadata": {
    "id": "ZWsbHTdA-ySU"
   },
   "outputs": [],
   "source": [
    "diccionari={'nombre':'mikel', 'edad':42, 'oficio': 'Profesor'}\n",
    "diccionari['Coche']='Ferrai'\n",
    "print(diccionari)\n",
    "del(diccionari['edad'])\n",
    "print(diccionari)"
   ]
  },
  {
   "cell_type": "markdown",
   "metadata": {
    "id": "KoSKD-_i-y5s"
   },
   "source": [
    "### Ejercicio 21\n"
   ]
  },
  {
   "cell_type": "markdown",
   "metadata": {
    "id": "kbWwVQrq-0QX"
   },
   "source": [
    "Modifica el coche introducido anteriormente por un \"Dacia\" y muestralo por pantalla:\n"
   ]
  },
  {
   "cell_type": "code",
   "execution_count": null,
   "metadata": {
    "id": "-wwdaGTa_GaU"
   },
   "outputs": [],
   "source": [
    "diccionari={'nombre':'mikel', 'edad':42, 'oficio': 'Profesor'}\n",
    "diccionari['Coche']='Ferrai'\n",
    "print(diccionari)\n",
    "del(diccionari['edad'])\n",
    "print(diccionari)\n",
    "diccionari['Coche']='Dacia'\n",
    "print(diccionari)"
   ]
  },
  {
   "cell_type": "markdown",
   "metadata": {
    "id": "CSKhiKP9_HDz"
   },
   "source": [
    "### Ejercicio 22\n"
   ]
  },
  {
   "cell_type": "markdown",
   "metadata": {
    "id": "RNMRPfz2_IMH"
   },
   "source": [
    "Muestra por pantalla por un lado las claves del diccionario creado y por otro los valores del mismo:\n"
   ]
  },
  {
   "cell_type": "code",
   "execution_count": null,
   "metadata": {
    "id": "yBxDKOue_QnH"
   },
   "outputs": [],
   "source": [
    "diccionari={'nombre':'mikel', 'edad':42, 'oficio': 'Profesor'}\n",
    "diccionari['Coche']='Ferrai'\n",
    "print(diccionari)\n",
    "del(diccionari['edad'])\n",
    "print(diccionari)\n",
    "diccionari['Coche']='Dacia'\n",
    "print(diccionari)\n",
    "keys=diccionari.keys()\n",
    "values=diccionari.values()\n",
    "print(keys)\n",
    "print(values)"
   ]
  },
  {
   "cell_type": "markdown",
   "metadata": {
    "id": "ttJWYXKp26ya"
   },
   "source": [
    "---\n",
    "\n",
    "# Estructuras de control\n"
   ]
  },
  {
   "cell_type": "markdown",
   "metadata": {
    "id": "pT8SEt2G2_fM"
   },
   "source": [
    "## If .. else\n"
   ]
  },
  {
   "cell_type": "markdown",
   "metadata": {
    "id": "y5qmNJ5B3B7q"
   },
   "source": [
    "### Ejercicio 23\n"
   ]
  },
  {
   "cell_type": "markdown",
   "metadata": {
    "id": "3r5qMEJQEOQK"
   },
   "source": [
    "Pide al usuario un número de entrada. En caso de ser mayor que 10 muestra el mensaje \"Es mayor que 10!\":\n"
   ]
  },
  {
   "cell_type": "code",
   "execution_count": null,
   "metadata": {
    "id": "JpAuxDGC3CQA"
   },
   "outputs": [],
   "source": [
    "num=int(input('Diguem un numero mayor de 10:'))\n",
    "if num > 10:\n",
    "    print('Es mayor que 10!')"
   ]
  },
  {
   "cell_type": "markdown",
   "metadata": {
    "id": "SPmS9QHaJnGA"
   },
   "source": [
    "### Ejercicio 24\n"
   ]
  },
  {
   "cell_type": "markdown",
   "metadata": {
    "id": "vFJXByGrHldZ"
   },
   "source": [
    "Pide al usuario un texto de entrada. Comprueba su longitud e indica si es mayor o menor de 20 caracteres. En caso de contar con 20 caracteres muestra el mensaje \"PERFECT!\":\n"
   ]
  },
  {
   "cell_type": "code",
   "execution_count": null,
   "metadata": {
    "id": "P1eucwQGH66K"
   },
   "outputs": [],
   "source": [
    "cadena=input('Diguem alguna cosa:')\n",
    "if len(cadena) > 20:\n",
    "    print('PERFECTE!')"
   ]
  },
  {
   "cell_type": "markdown",
   "metadata": {
    "id": "oZPAxDC5JqFn"
   },
   "source": [
    "### Ejercicio 25\n"
   ]
  },
  {
   "cell_type": "markdown",
   "metadata": {
    "id": "0_mT-nPpH7Yb"
   },
   "source": [
    "Pide al usuario un número de entrada. Primero comprueba que sea un número, en caso de ser un texto muestra el mensaje \"Esto no es un número\". Si es un número, comprueba si es mayor o menor que 10 e indícalo por pantalla:\n"
   ]
  },
  {
   "cell_type": "code",
   "execution_count": null,
   "metadata": {
    "id": "1nThVqaEIGqg"
   },
   "outputs": [],
   "source": [
    "try:\n",
    "    num=int(input('Diguem un numero:'))\n",
    "    if num>10:\n",
    "        print('Es mayor que 10!')\n",
    "    else:\n",
    "        print('No es mayor que 10!')          \n",
    "except:\n",
    "    print('Esto no es un nunmero')"
   ]
  },
  {
   "cell_type": "markdown",
   "metadata": {
    "id": "R0cE_A5tJrZK"
   },
   "source": [
    "### Ejercicio 26\n"
   ]
  },
  {
   "cell_type": "markdown",
   "metadata": {
    "id": "Omg2m_QvIOZ_"
   },
   "source": [
    "Pide al usuario un número e indica en cual de los siguientes intérvalos cae:\n",
    "\n",
    "- x < 0\n",
    "- 0 <= x <= 10\n",
    "- 10 < x\n"
   ]
  },
  {
   "cell_type": "code",
   "execution_count": null,
   "metadata": {
    "id": "4mOybtnwIfUz"
   },
   "outputs": [],
   "source": [
    "try:\n",
    "    num=int(input('Diguem un numero:'))\n",
    "    if num < 0: print( str(num) +' < 0')\n",
    "    elif 10 < num: print('10 < ' + str(num))     \n",
    "    else:print('0 <= ' + str(num) + ' <= 10')\n",
    "except:\n",
    "    print('Esto no es un nunmero')  \n"
   ]
  },
  {
   "cell_type": "markdown",
   "metadata": {
    "id": "NZXiMWie3EMY"
   },
   "source": [
    "## while\n"
   ]
  },
  {
   "cell_type": "markdown",
   "metadata": {
    "id": "0cpVqBkDJtID"
   },
   "source": [
    "### Ejercicio 27\n"
   ]
  },
  {
   "cell_type": "markdown",
   "metadata": {
    "id": "KIuuex8F3HSW"
   },
   "source": [
    "Pide al usuario que introduzca números y muestralos por pantalla hasta que introduzca un 0:\n"
   ]
  },
  {
   "cell_type": "code",
   "execution_count": 49,
   "metadata": {
    "id": "o5hbakNGIwga"
   },
   "outputs": [
    {
     "name": "stdin",
     "output_type": "stream",
     "text": [
      "Diguem un numero: 6\n"
     ]
    },
    {
     "name": "stdout",
     "output_type": "stream",
     "text": [
      "6\n",
      "5\n",
      "4\n",
      "3\n",
      "2\n",
      "1\n",
      "0\n"
     ]
    }
   ],
   "source": [
    "num=int(input('Diguem un numero:'))\n",
    "while num >= 0:\n",
    "    print(num)\n",
    "    num -=1"
   ]
  },
  {
   "cell_type": "markdown",
   "metadata": {
    "id": "3eyOan8nJuav"
   },
   "source": [
    "### Ejercicio 28\n"
   ]
  },
  {
   "cell_type": "markdown",
   "metadata": {
    "id": "Z40hI6GbIxMz"
   },
   "source": [
    "Pide al usuario que introduzca números hasta que la suma de todos ellos supere el número 100:\n"
   ]
  },
  {
   "cell_type": "code",
   "execution_count": 51,
   "metadata": {
    "id": "GsWv8_jP3Hpd"
   },
   "outputs": [
    {
     "name": "stdin",
     "output_type": "stream",
     "text": [
      "Diguem un numero: 3\n"
     ]
    },
    {
     "name": "stdout",
     "output_type": "stream",
     "text": [
      "3\n"
     ]
    },
    {
     "name": "stdin",
     "output_type": "stream",
     "text": [
      "Diguem un numero: 5\n"
     ]
    },
    {
     "name": "stdout",
     "output_type": "stream",
     "text": [
      "8\n"
     ]
    },
    {
     "name": "stdin",
     "output_type": "stream",
     "text": [
      "Diguem un numero: 10\n"
     ]
    },
    {
     "name": "stdout",
     "output_type": "stream",
     "text": [
      "18\n"
     ]
    },
    {
     "name": "stdin",
     "output_type": "stream",
     "text": [
      "Diguem un numero: 17\n"
     ]
    },
    {
     "name": "stdout",
     "output_type": "stream",
     "text": [
      "35\n"
     ]
    },
    {
     "name": "stdin",
     "output_type": "stream",
     "text": [
      "Diguem un numero: 40\n"
     ]
    },
    {
     "name": "stdout",
     "output_type": "stream",
     "text": [
      "75\n"
     ]
    },
    {
     "name": "stdin",
     "output_type": "stream",
     "text": [
      "Diguem un numero: 12\n"
     ]
    },
    {
     "name": "stdout",
     "output_type": "stream",
     "text": [
      "87\n"
     ]
    },
    {
     "name": "stdin",
     "output_type": "stream",
     "text": [
      "Diguem un numero: 1\n"
     ]
    },
    {
     "name": "stdout",
     "output_type": "stream",
     "text": [
      "88\n"
     ]
    },
    {
     "name": "stdin",
     "output_type": "stream",
     "text": [
      "Diguem un numero: 25\n"
     ]
    },
    {
     "name": "stdout",
     "output_type": "stream",
     "text": [
      "113\n"
     ]
    }
   ],
   "source": [
    "num=0\n",
    "while num <100:\n",
    "    aux=int(input('Diguem un numero:'))\n",
    "    num+= aux\n",
    "    print(num)"
   ]
  },
  {
   "cell_type": "markdown",
   "metadata": {
    "id": "ZtVw6LIeJwHq"
   },
   "source": [
    "### Ejercicio 29\n"
   ]
  },
  {
   "cell_type": "markdown",
   "metadata": {
    "id": "OzhmWAWUI30L"
   },
   "source": [
    "Pide al usuario que introduzca números hasta que introduzca un 0. En caso de que la suma de los números introducidos supere el valor 100 sal del bucle de manera forzada:\n"
   ]
  },
  {
   "cell_type": "code",
   "execution_count": 7,
   "metadata": {
    "id": "Rxb8AFU4JEEe"
   },
   "outputs": [
    {
     "name": "stdin",
     "output_type": "stream",
     "text": [
      "Escriu zero: 10\n"
     ]
    },
    {
     "name": "stdout",
     "output_type": "stream",
     "text": [
      "Suma: 10 \n",
      "10\n"
     ]
    },
    {
     "name": "stdin",
     "output_type": "stream",
     "text": [
      "Escriu zero: 90\n"
     ]
    },
    {
     "name": "stdout",
     "output_type": "stream",
     "text": [
      "Suma: 100 \n",
      "90\n"
     ]
    },
    {
     "name": "stdin",
     "output_type": "stream",
     "text": [
      "Escriu zero: 1\n"
     ]
    },
    {
     "name": "stdout",
     "output_type": "stream",
     "text": [
      "Suma: 101 \n",
      "1\n"
     ]
    }
   ],
   "source": [
    "num= int\n",
    "suma=0\n",
    "while num != 0:\n",
    "    aux=int(input('Escriu zero:'))\n",
    "    suma+= aux\n",
    "    num=aux\n",
    "    print(f'Suma: {suma} ')\n",
    "    print(num)\n",
    "    if suma>=100:\n",
    "        break"
   ]
  },
  {
   "cell_type": "markdown",
   "metadata": {
    "id": "kbde3j5XJxnG"
   },
   "source": [
    "### Ejercicio 30\n"
   ]
  },
  {
   "cell_type": "markdown",
   "metadata": {
    "id": "0y1cLTp8JEj0"
   },
   "source": [
    "Pide al usuario que introduzca números cada vez mayores en cada iteración. Si introduce un número igual o menor que el anterior termina el bucle. Además, el usuario siempre tendrá la opción de forzar el final del bucle mediante el valor 0. En caso de haber terminado el bucle correctamente (sin ser forzado), muestra el mensaje \"END\":\n"
   ]
  },
  {
   "cell_type": "code",
   "execution_count": 34,
   "metadata": {
    "id": "zZamBG0LJgPU"
   },
   "outputs": [
    {
     "name": "stdin",
     "output_type": "stream",
     "text": [
      "Duiguem un numero més gran que l´anterior: 3\n",
      "Duiguem un numero més gran que l´anterior: 4\n",
      "Duiguem un numero més gran que l´anterior: 5\n",
      "Duiguem un numero més gran que l´anterior: 2\n"
     ]
    },
    {
     "name": "stdout",
     "output_type": "stream",
     "text": [
      "END\n"
     ]
    }
   ],
   "source": [
    "num=0\n",
    "aux=1\n",
    "while aux != 0:\n",
    "    aux=int(input('Duiguem un numero més gran que l´anterior:'))\n",
    "    if aux<=num and aux !=0:\n",
    "        print('END')\n",
    "        break\n",
    "    num=aux\n",
    "    \n"
   ]
  },
  {
   "cell_type": "markdown",
   "metadata": {
    "id": "NXBztsTS3H-n"
   },
   "source": [
    "## for\n"
   ]
  },
  {
   "cell_type": "markdown",
   "metadata": {
    "id": "pWRwCYQEJztb"
   },
   "source": [
    "### Ejercicio 31\n"
   ]
  },
  {
   "cell_type": "markdown",
   "metadata": {
    "id": "ryt_v4h_3K9C"
   },
   "source": [
    "Muestra por pantalla todos los números del 1 al 10:\n"
   ]
  },
  {
   "cell_type": "code",
   "execution_count": 38,
   "metadata": {
    "id": "eZDxNRHR3LSe"
   },
   "outputs": [
    {
     "name": "stdout",
     "output_type": "stream",
     "text": [
      "1\n",
      "2\n",
      "3\n",
      "4\n",
      "5\n",
      "6\n",
      "7\n",
      "8\n",
      "9\n",
      "10\n"
     ]
    }
   ],
   "source": [
    "for x in range(1,11): \n",
    "    print(x)"
   ]
  },
  {
   "cell_type": "markdown",
   "metadata": {
    "id": "QlHTctAeJ8yB"
   },
   "source": [
    "### Ejercicio 32\n"
   ]
  },
  {
   "cell_type": "markdown",
   "metadata": {
    "id": "wQ9SFaOnJ9_g"
   },
   "source": [
    "Muestra por pantalla la siguiente estructura numérica:\n",
    "\n",
    "- 12345\n",
    "- 12345\n",
    "- 12345\n",
    "- 12345\n",
    "- 12345\n"
   ]
  },
  {
   "cell_type": "code",
   "execution_count": 39,
   "metadata": {
    "id": "VKyghblCKEfJ"
   },
   "outputs": [
    {
     "name": "stdout",
     "output_type": "stream",
     "text": [
      "12345\n",
      "12345\n",
      "12345\n",
      "12345\n",
      "12345\n",
      "12345\n"
     ]
    }
   ],
   "source": [
    "for x in range(6): \n",
    "    print(12345)"
   ]
  },
  {
   "cell_type": "markdown",
   "metadata": {
    "id": "aNbjP694KExa"
   },
   "source": [
    "### Ejercicio 33\n"
   ]
  },
  {
   "cell_type": "markdown",
   "metadata": {
    "id": "eiiufAt0KFkz"
   },
   "source": [
    "Muestra por pantalla la siguiente estructura numérica:\n",
    "\n",
    "- 1\n",
    "- 12\n",
    "- 123\n",
    "- 1234\n",
    "- 12345\n"
   ]
  },
  {
   "cell_type": "code",
   "execution_count": 7,
   "metadata": {
    "id": "oaqe7pC6KKyN"
   },
   "outputs": [
    {
     "name": "stdout",
     "output_type": "stream",
     "text": [
      "1\n",
      "12\n",
      "123\n",
      "1234\n",
      "12345\n"
     ]
    }
   ],
   "source": [
    "num=0\n",
    "for x in range(1,6):\n",
    "    num= num * 10 + x\n",
    "    print(num)"
   ]
  },
  {
   "cell_type": "markdown",
   "metadata": {
    "id": "ADeKfeevKLNn"
   },
   "source": [
    "### Ejercicio 34\n"
   ]
  },
  {
   "cell_type": "markdown",
   "metadata": {
    "id": "UrG5xMmjKMDK"
   },
   "source": [
    "Muestra por pantalla la siguiente estructura numérica:\n",
    "\n",
    "- 5\n",
    "- 54\n",
    "- 5432\n",
    "- 54321\n"
   ]
  },
  {
   "cell_type": "code",
   "execution_count": 10,
   "metadata": {
    "id": "lazIcmCVKTZl"
   },
   "outputs": [
    {
     "name": "stdout",
     "output_type": "stream",
     "text": [
      "5\n",
      "54\n",
      "543\n",
      "5432\n",
      "54321\n"
     ]
    }
   ],
   "source": [
    "num=0\n",
    "for x in range(5,0,-1):\n",
    "    num= num * 10 + x\n",
    "    print(num)"
   ]
  },
  {
   "cell_type": "markdown",
   "metadata": {
    "id": "x6MOHliMKiu9"
   },
   "source": [
    "### Ejercicio 35\n"
   ]
  },
  {
   "cell_type": "markdown",
   "metadata": {
    "id": "DEXpNY1tKknm"
   },
   "source": [
    "Recorre todos los elementos del diccionario \"cars\" y muestra aquellos que su clave empiece por la letra \"S\" o que el coche empiece por la letra \"M\". El bucle termina de manera forzada si encuentra algún coche que empiece por la letra \"C\":\n"
   ]
  },
  {
   "cell_type": "code",
   "execution_count": 17,
   "metadata": {
    "id": "21W9HDipK_NF"
   },
   "outputs": [
    {
     "name": "stdout",
     "output_type": "stream",
     "text": [
      "M3\n",
      "Ibiza\n"
     ]
    }
   ],
   "source": [
    "cars = {\n",
    "    \"Ford\": \"Fiesta\",\n",
    "    \"BMW\": \"M3\",\n",
    "    \"Seat\": \"Ibiza\",\n",
    "    \"Citroen\": \"C3\",\n",
    "    \"Nissan\": \"Micra\"\n",
    "}\n",
    "\n",
    "for x in cars:\n",
    "    if x[0]=='S':\n",
    "        print(cars[x])\n",
    "    if cars[x][0]=='M':\n",
    "        print(cars[x])\n",
    "    if cars[x][0]=='C':\n",
    "        break"
   ]
  },
  {
   "cell_type": "markdown",
   "metadata": {
    "id": "prLAhO0C3aCd"
   },
   "source": [
    "---\n",
    "\n",
    "# Funciones\n"
   ]
  },
  {
   "cell_type": "markdown",
   "metadata": {
    "id": "1GDIiryw3cXm"
   },
   "source": [
    "### Ejercicio 36\n"
   ]
  },
  {
   "cell_type": "markdown",
   "metadata": {
    "id": "Lfw6Edw-OKVg"
   },
   "source": [
    "Define una función que acepte un texto de entrada y devuelva la cantidad de vocales que contiene:\n"
   ]
  },
  {
   "cell_type": "code",
   "execution_count": 21,
   "metadata": {
    "id": "AzScrsN33cll"
   },
   "outputs": [
    {
     "data": {
      "text/plain": [
       "2"
      ]
     },
     "execution_count": 21,
     "metadata": {},
     "output_type": "execute_result"
    }
   ],
   "source": [
    "def vocals(a):\n",
    "    num=0\n",
    "    vocals= ['a','e','i','o','u']\n",
    "    for x in a:\n",
    "        if x in vocals:    \n",
    "            num+=1\n",
    "    return num\n",
    "\n",
    "vocals('Skere')"
   ]
  },
  {
   "cell_type": "markdown",
   "metadata": {
    "id": "dipy029zObp6"
   },
   "source": [
    "### Ejercicio 37\n"
   ]
  },
  {
   "cell_type": "markdown",
   "metadata": {
    "id": "IOjdcJKIOcq0"
   },
   "source": [
    "Define una función que acepte una lista como parámetro y muestre por pantalla la cantidad de vocales contenidas en los textos incluidos en la lista:\n"
   ]
  },
  {
   "cell_type": "code",
   "execution_count": 22,
   "metadata": {
    "id": "O4T-lkm2PXrl"
   },
   "outputs": [
    {
     "data": {
      "text/plain": [
       "4"
      ]
     },
     "execution_count": 22,
     "metadata": {},
     "output_type": "execute_result"
    }
   ],
   "source": [
    "def vocals(a):\n",
    "    num=0\n",
    "    vocals= ['a','e','i','o','u']\n",
    "    for x in a:\n",
    "        for v in x:\n",
    "            for y in vocals:\n",
    "                if y== v:\n",
    "                    num+=1\n",
    "    return num\n",
    "\n",
    "vocals(['skere', 'hola'])"
   ]
  },
  {
   "cell_type": "markdown",
   "metadata": {
    "id": "jjLNiD5gPw_k"
   },
   "source": [
    "### Ejercicio 38\n"
   ]
  },
  {
   "cell_type": "markdown",
   "metadata": {
    "id": "HnxroRbqPZ49"
   },
   "source": [
    "Define una función que acepte un diccionario como entrada y muestre todos sus contenidos por pantalla:\n"
   ]
  },
  {
   "cell_type": "code",
   "execution_count": 25,
   "metadata": {
    "id": "Y2LKzjROPebS"
   },
   "outputs": [
    {
     "name": "stdout",
     "output_type": "stream",
     "text": [
      "hola: adios\n",
      "skere: mucho skere\n"
     ]
    }
   ],
   "source": [
    "def dicc(a):\n",
    "    for x in a:\n",
    "        print(x + ': ' + a[x])\n",
    "dicc({'hola':'adios', 'skere':'mucho skere'})"
   ]
  },
  {
   "cell_type": "markdown",
   "metadata": {
    "id": "quNOUOafPzHq"
   },
   "source": [
    "### Ejercicio 39\n"
   ]
  },
  {
   "cell_type": "markdown",
   "metadata": {
    "id": "tZawmSiFPhvW"
   },
   "source": [
    "Define una función que acepte dos parámetros numéricos pero que cada uno de ellos tenga un valor predefinido en caso de no ser recibido. Dicha función devolverá la suma de los dos parámetros recibidos:\n"
   ]
  },
  {
   "cell_type": "code",
   "execution_count": 31,
   "metadata": {
    "id": "4cJC1eESPvfF"
   },
   "outputs": [
    {
     "data": {
      "text/plain": [
       "3"
      ]
     },
     "execution_count": 31,
     "metadata": {},
     "output_type": "execute_result"
    }
   ],
   "source": [
    "def sum(a=1, b=2):\n",
    "    return a+b\n",
    "sum()"
   ]
  },
  {
   "cell_type": "markdown",
   "metadata": {
    "id": "w6V51OuK3gdA"
   },
   "source": [
    "---\n",
    "\n",
    "# Programación Orientada a Objetos\n"
   ]
  },
  {
   "cell_type": "markdown",
   "metadata": {
    "id": "jjrn-cEdRQPE"
   },
   "source": [
    "### Ejercicio 40\n"
   ]
  },
  {
   "cell_type": "markdown",
   "metadata": {
    "id": "iuPSKdHm3jLa"
   },
   "source": [
    "Define una clase \"forma\" que cuente con los atributos \"longitud_lados\" (una lista con la medida numérica de sus lados) y \"nombre\". Además, define que en el constructor se tengan que pasar estos valores.\n",
    "Después define una clase \"triangulo_rectángulo\" que extienda de la clase \"forma\" y que defina la función \"area\" que calcule su área:\n"
   ]
  },
  {
   "cell_type": "code",
   "execution_count": 44,
   "metadata": {
    "id": "usoPSahh3jbB"
   },
   "outputs": [
    {
     "name": "stdout",
     "output_type": "stream",
     "text": [
      "12\n"
     ]
    }
   ],
   "source": [
    "from abc import ABC\n",
    "class Forma(ABC):\n",
    "    def __init__(self,longitud_lados,nombre):\n",
    "        self.longitud_lados=longitud_lados\n",
    "        self.nombre=nombre\n",
    "\n",
    "class Triangulo_rectangulo(Forma):\n",
    "    def __init__(self, longitud_lados,nombre):\n",
    "        Forma.__init__(self, longitud_lados,nombre)\n",
    "            \n",
    "    def area(self):\n",
    "        area =self.longitud_lados[0]*self.longitud_lados[1]\n",
    "        print(area)\n",
    "        \n",
    "    \n",
    "triangulo=Triangulo_rectangulo([4,3,2], 'triangulo')\n",
    "triangulo.area()"
   ]
  },
  {
   "cell_type": "code",
   "execution_count": null,
   "metadata": {},
   "outputs": [],
   "source": []
  }
 ],
 "metadata": {
  "colab": {
   "provenance": []
  },
  "kernelspec": {
   "display_name": "Python 3 (ipykernel)",
   "language": "python",
   "name": "python3"
  },
  "language_info": {
   "codemirror_mode": {
    "name": "ipython",
    "version": 3
   },
   "file_extension": ".py",
   "mimetype": "text/x-python",
   "name": "python",
   "nbconvert_exporter": "python",
   "pygments_lexer": "ipython3",
   "version": "3.10.12"
  }
 },
 "nbformat": 4,
 "nbformat_minor": 4
}
