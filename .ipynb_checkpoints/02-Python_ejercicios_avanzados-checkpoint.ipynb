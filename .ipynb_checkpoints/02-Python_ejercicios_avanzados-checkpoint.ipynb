{
 "cells": [
  {
   "cell_type": "markdown",
   "metadata": {
    "id": "ZmX0AObVDj-Z"
   },
   "source": [
    "En esta hoja de ejercicios, vamos a intentar resolver problemas más complejos con Python. El objetivo es trabajar vuestra capacidad de abstracción para resolver problemas más complejos, de forma que tengáis que pensar y plantear vuestras propias soluciones.\n"
   ]
  },
  {
   "cell_type": "markdown",
   "metadata": {
    "id": "5pD_FLb2FGjN"
   },
   "source": [
    "---\n",
    "\n",
    "# Orden y limpieza\n"
   ]
  },
  {
   "cell_type": "markdown",
   "metadata": {
    "id": "snKu25P_yiiO"
   },
   "source": [
    "Define una función \"clean_order\" que:\n",
    "\n",
    "- Acepte una lista de números enteros\n",
    "- Verifique que todo son números enteros (en caso de no ser así que elimine de la lista los elementos que no lo sean)\n",
    "- Devuelva la lista ordenada de menor a mayor\n",
    "\n",
    "Llama a la función con la lista \"co_data\" e imprime su resultado por pantalla:\n"
   ]
  },
  {
   "cell_type": "code",
   "execution_count": 28,
   "metadata": {
    "id": "HwUOlkJxHFGR"
   },
   "outputs": [
    {
     "name": "stdout",
     "output_type": "stream",
     "text": [
      "['first', 12, 47, 0, -4, 23.02, [2, 3, 4, 8, -3], 'last', 3, 100, -31]\n",
      "skere\n",
      "[12, 47, 0, -4, 23.02, [2, 3, 4, 8, -3], 'last', 3, 100, -31]\n",
      "[12, 47, 0, -4, 23.02, [2, 3, 4, 8, -3], 'last', 3, 100, -31]\n",
      "[12, 47, 0, -4, 23.02, [2, 3, 4, 8, -3], 'last', 3, 100, -31]\n",
      "[12, 47, 0, -4, 23.02, [2, 3, 4, 8, -3], 'last', 3, 100, -31]\n",
      "[12, 47, 0, -4, 23.02, [2, 3, 4, 8, -3], 'last', 3, 100, -31]\n",
      "skere\n",
      "[12, 47, 0, -4, [2, 3, 4, 8, -3], 'last', 3, 100, -31]\n",
      "skere\n",
      "[12, 47, 0, -4, 'last', 3, 100, -31]\n",
      "skere\n",
      "[12, 47, 0, -4, 3, 100, -31]\n",
      "[12, 47, 0, -4, 3, 100, -31]\n",
      "[12, 47, 0, -4, 3, 100, -31]\n",
      "[-31, -4, 0, 3, 12, 47, 100]\n"
     ]
    }
   ],
   "source": [
    "co_data = [\"first\", 12, 47, 0, -4, 23.02, [2, 3, 4, 8, -3], \"last\", 3, 100, -31]\n",
    "\n",
    "def ordena(x):\n",
    "    cont=0\n",
    "    while cont < len(co_data):\n",
    "        if type(x[cont]) != int: \n",
    "            x.pop(cont)\n",
    "        else:\n",
    "            cont+=1\n",
    "    x.sort()\n",
    "    return x\n",
    "\n",
    "print(ordena(co_data))"
   ]
  },
  {
   "cell_type": "markdown",
   "metadata": {
    "id": "wW4J2rPXP4lI"
   },
   "source": [
    "---\n",
    "\n",
    "# Palíndromo\n",
    "\n",
    "Un palíndromo es una palabra que se lee igual de derecha a izquierda que de izquierda a derecha, por ejemplo \"reconocer\". Haz una función que devuelva verdadero si el parámetro de entrada es una palabra que cumpla con esta definición:\n"
   ]
  },
  {
   "cell_type": "code",
   "execution_count": 26,
   "metadata": {
    "id": "NHCHAk2cQWsy"
   },
   "outputs": [
    {
     "name": "stdout",
     "output_type": "stream",
     "text": [
      "palindromo\n"
     ]
    }
   ],
   "source": [
    "def pali(x):\n",
    "    aux=x[::-1]\n",
    "    if aux == x:\n",
    "        print('Palindromo')\n",
    "    else:\n",
    "        print('No palindromo')\n",
    "pali('reconocer')"
   ]
  },
  {
   "cell_type": "markdown",
   "metadata": {
    "id": "Yw32WXKGHgVc"
   },
   "source": [
    "---\n",
    "\n",
    "# Autobusero\n"
   ]
  },
  {
   "cell_type": "markdown",
   "metadata": {
    "id": "ongRBo8Fyn2U"
   },
   "source": [
    "Define una función \"bus_stops\" que:\n",
    "\n",
    "- Acepte una lista de diccionarios con una serie de coordenadas (\"x\" e \"y\") con números enteros\n",
    "- Verifique que todo son números enteros (en caso de no ser así que elimine las coordenadas que no lo cumplan)\n",
    "- Calcule el orden que optimice la distancia mínima a recorrer si tenemos que pasar por todos los puntos.\n",
    "- Muestre por pantalla la distancia mínima obtenida y devuelva un diccionario con el orden correcto de los puntos.\n",
    "\n",
    "Llama a la función con el diccionario \"bs_data\" e imprime su resultado por pantalla:\n"
   ]
  },
  {
   "cell_type": "code",
   "execution_count": null,
   "metadata": {
    "id": "7-AVFc50KXi3"
   },
   "outputs": [],
   "source": [
    "bs_data = [{\"x\": 1, \"y\": 1},\n",
    "        {\"x\": \"some\", \"y\": 12},\n",
    "        {\"x\": 3, \"y\": 9},\n",
    "        {\"x\": 9, \"y\": 4},\n",
    "        {\"x\": 1, \"y\": 1},\n",
    "        {\"x\": 1, \"y\": 5},\n",
    "        {\"x\": 5, \"y\": 2},\n",
    "        {\"x\": 4, \"y\": 10},\n",
    "        {\"x\": 8, \"y\": 8},\n",
    "        {\"x\": -3, \"y\": 2.3}]"
   ]
  },
  {
   "cell_type": "markdown",
   "metadata": {
    "id": "bZ0s0Oe3PfPK"
   },
   "source": [
    "---\n",
    "\n",
    "# Mochila\n"
   ]
  },
  {
   "cell_type": "markdown",
   "metadata": {
    "id": "WqHPBvfuylVI"
   },
   "source": [
    "Define una función \"backpack\" que:\n",
    "\n",
    "- Acepte dos parámetros de entrada: un número entero que especificará el peso que es capaz de soportar la mochila y una lista de pares de elementos (definidos en diccionarios) que contenga el peso y el valor de cada objeto\n",
    "- Verifique que todos los parámetros son números enteros (los que no sean así serán eliminados)\n",
    "- Calcule la mejor combinación de objetos que permita la máxima ganancia limitandose al peso que soporta la mochila\n",
    "- Muestre por pantalla el valor obtenido\n",
    "- Devuelva una lista con los elementos escogidos\n",
    "\n",
    "Llama a la función con los parámetros \"backpack_weight_limit\" y \"objects\" e imprime su resultado por pantalla:\n"
   ]
  },
  {
   "cell_type": "code",
   "execution_count": 13,
   "metadata": {
    "id": "wRMdmv0YR3zq"
   },
   "outputs": [
    {
     "data": {
      "text/plain": [
       "23"
      ]
     },
     "execution_count": 13,
     "metadata": {},
     "output_type": "execute_result"
    }
   ],
   "source": [
    "backpack_weight_limit = 15\n",
    "objects = [{\"weight\": 1, \"value\": 1},\n",
    "           {\"weight\": 6, \"value\": 4},\n",
    "           {\"weight\": 4, \"value\": 7},\n",
    "           {\"weight\": 5, \"value\": 6},\n",
    "           {\"weight\": 1, \"value\": 3},\n",
    "           {\"weight\": 6, \"value\": 8},\n",
    "           {\"weight\": 3, \"value\": 6},\n",
    "           {\"weight\": 10, \"value\": 11},\n",
    "           {\"weight\": 4, \"value\": 4},\n",
    "           {\"weight\": 7, \"value\": 3}]\n",
    "\n",
    "def orderRatio(objects):\n",
    "    mostValue={}\n",
    "    aux=0\n",
    "    for x in objects:\n",
    "        count=x['weight']/x['value']\n",
    "       \n",
    "        mostValue[aux]=count\n",
    "        aux+=1\n",
    "    sorted_dict=sorted(mostValue.items(), key=lambda x:x[1])\n",
    "    auxList=[]\n",
    "    for x in sorted_dict:\n",
    "        auxList.append(objects[x[0]])\n",
    "    return auxList\n",
    "\n",
    "def backpack(backpack_weight_limit, objects):\n",
    "    objAux=orderRatio(objects)\n",
    "    motxi=[]\n",
    "    total=0\n",
    "    for objecte in objAux:\n",
    "        if backpack_weight_limit - objecte['weight']>= 0:\n",
    "            backpack_weight_limit -= objecte['weight']\n",
    "            motxi.append(objecte)\n",
    "            total += objecte['value']\n",
    "    \n",
    "    \n",
    "    return motxi\n",
    "\n",
    "backpack(backpack_weight_limit, objects)"
   ]
  },
  {
   "cell_type": "code",
   "execution_count": 27,
   "metadata": {},
   "outputs": [
    {
     "name": "stdout",
     "output_type": "stream",
     "text": [
      "[0, []]\n",
      "4\n",
      "[0, []]\n",
      "[0, []]\n",
      "0\n",
      "[0, []]\n",
      "[7, [{'weight': 4, 'value': 7}]]\n",
      "[7, [{'weight': 4, 'value': 7}]]\n",
      "0\n",
      "[0, []]\n",
      "[0, []]\n"
     ]
    },
    {
     "data": {
      "text/plain": [
       "[14, [{'weight': 4, 'value': 7}, {'weight': 4, 'value': 7}]]"
      ]
     },
     "execution_count": 27,
     "metadata": {},
     "output_type": "execute_result"
    }
   ],
   "source": [
    "backpack_weight_limit =5\n",
    "objects = [{\"weight\": 1, \"value\": 1},\n",
    "           {\"weight\": 6, \"value\": 4},\n",
    "           {\"weight\": 4, \"value\": 7}]\n",
    "\n",
    "def selectBestBackpack(pesRestant, objectes):\n",
    "    \n",
    "    motxi=[0, []]\n",
    "    if 'bestMotxi' not in locals():\n",
    "        bestMotxi=[0, []]\n",
    "\n",
    "    \n",
    "    for objecte in objectes:\n",
    "        objAux=objectes.copy()\n",
    "        motxiAux= motxi.copy()\n",
    "        print(motxi)\n",
    "        if objecte['weight'] <=pesRestant:\n",
    "            objAux.remove(objecte)\n",
    "            motxi[1].append(objecte)\n",
    "            pesRestant = pesRestant- objecte['weight']\n",
    "            print(pesRestant)\n",
    "            motxi[0]= motxi[0]+ objecte['value']\n",
    "            \n",
    "            if motxi[0]> bestMotxi[0]:\n",
    "                bestMotxi=motxi.copy()\n",
    "            \n",
    "            motxi= selectBestBackpack(pesRestant, objAux)\n",
    "\n",
    "        else:\n",
    "            pass #res\n",
    "        \n",
    "    return bestMotxi\n",
    "        \n",
    "selectBestBackpack(backpack_weight_limit, objects)"
   ]
  },
  {
   "cell_type": "markdown",
   "metadata": {
    "id": "Wxa6x-OOGbph"
   },
   "source": [
    "---\n",
    "\n",
    "# Jarras de agua\n"
   ]
  },
  {
   "cell_type": "markdown",
   "metadata": {
    "id": "ulhWGz1QyqHg"
   },
   "source": [
    "Define una función \"water_pitcher\" que:\n",
    "\n",
    "- Acepte dos parámetros: el primero la cantidad objetivo de agua a separar, el segundo una lista de números enteros que serán las distintas jarras de agua de que disponemos (por ejemplo, una de 3 litros y otra de 5 --> [3, 5])\n",
    "- Verifica que en ningún caso, la cantidad objetivo de agua es superior al tamaño de la mayor jarra.\n",
    "- Calcule cómo separar la cantidad de agua objetivo de manera exacta utilizando las jarras disponibles (se pueden llenar las jarras tantas veces como se quiera)\n",
    "- Muestre por pantalla el orden correcto para hallar la solución o indica si es imposible\n",
    "\n",
    "Llamar a la función con el agua objetivo \"required_water\" y la lista de jarras \"water_pitchers\":\n"
   ]
  },
  {
   "cell_type": "code",
   "execution_count": null,
   "metadata": {
    "id": "qLnFX7qmxZxH"
   },
   "outputs": [],
   "source": [
    "required_water = 4\n",
    "water_pitchers = [3, 5]"
   ]
  }
 ],
 "metadata": {
  "colab": {
   "provenance": [
    {
     "file_id": "1wgaarSQ6D1wdpR7X_sRHpz4iMOHz8r9l",
     "timestamp": 1633448186468
    }
   ]
  },
  "kernelspec": {
   "display_name": "Python 3 (ipykernel)",
   "language": "python",
   "name": "python3"
  },
  "language_info": {
   "codemirror_mode": {
    "name": "ipython",
    "version": 3
   },
   "file_extension": ".py",
   "mimetype": "text/x-python",
   "name": "python",
   "nbconvert_exporter": "python",
   "pygments_lexer": "ipython3",
   "version": "3.10.12"
  }
 },
 "nbformat": 4,
 "nbformat_minor": 4
}
