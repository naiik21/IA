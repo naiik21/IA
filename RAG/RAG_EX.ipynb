{
 "cells": [
  {
   "cell_type": "code",
   "execution_count": 1,
   "metadata": {},
   "outputs": [
    {
     "name": "stderr",
     "output_type": "stream",
     "text": [
      "/home/iticbcn/Escritorio/CE/IA/Virtualsenv/pyTorch/lib/python3.10/site-packages/tqdm/auto.py:21: TqdmWarning: IProgress not found. Please update jupyter and ipywidgets. See https://ipywidgets.readthedocs.io/en/stable/user_install.html\n",
      "  from .autonotebook import tqdm as notebook_tqdm\n"
     ]
    }
   ],
   "source": [
    "import pinecone"
   ]
  },
  {
   "cell_type": "code",
   "execution_count": null,
   "metadata": {},
   "outputs": [],
   "source": [
    "database = pinecone(embed, vector_size)\n",
    "\n",
    "docu1, docu2, docu3\n",
    "database.add(docu1)\n",
    "database.add(docu2)\n",
    "database.add(docu3)"
   ]
  },
  {
   "cell_type": "code",
   "execution_count": 3,
   "metadata": {},
   "outputs": [],
   "source": [
    "database = {(1,1,1):\"el gato era verde\",\n",
    "            (2,2,1):\"el perro era azul\",\n",
    "            (2,5,1):\"los perros comen carne\"\n",
    "            }\n",
    "\n"
   ]
  },
  {
   "cell_type": "code",
   "execution_count": null,
   "metadata": {},
   "outputs": [],
   "source": [
    "pregunta= \"los perros son veganos?\"\n",
    "\n",
    "model = embedding\n",
    "\n",
    "embed = model(pregunta)\n",
    "embed = (2,6,1)\n",
    "\n",
    "lista_documentos = database(embed)\n",
    "\n",
    "lista_documentos = [\"el perro era azul\", \"los perros comen carne\"]"
   ]
  },
  {
   "cell_type": "code",
   "execution_count": null,
   "metadata": {},
   "outputs": [],
   "source": [
    "prompt = {\"pregunta\": pregunta; \"contexto\": lista_documentos}\n",
    "\n",
    "respuesta = GPT(prompt)"
   ]
  }
 ],
 "metadata": {
  "kernelspec": {
   "display_name": "pyTorch",
   "language": "python",
   "name": "python3"
  },
  "language_info": {
   "codemirror_mode": {
    "name": "ipython",
    "version": 3
   },
   "file_extension": ".py",
   "mimetype": "text/x-python",
   "name": "python",
   "nbconvert_exporter": "python",
   "pygments_lexer": "ipython3",
   "version": "3.10.12"
  }
 },
 "nbformat": 4,
 "nbformat_minor": 2
}
