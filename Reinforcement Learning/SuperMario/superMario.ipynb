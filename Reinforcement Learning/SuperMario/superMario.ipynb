{
 "cells": [
  {
   "cell_type": "markdown",
   "metadata": {},
   "source": [
    "# 1. Setup Mario\n"
   ]
  },
  {
   "cell_type": "code",
   "execution_count": 16,
   "metadata": {},
   "outputs": [
    {
     "name": "stdout",
     "output_type": "stream",
     "text": [
      "Requirement already satisfied: gym-super-mario-bros in /home/iticbcn/Escritorio/CE/IA/Virtualsenv/RL/lib/python3.10/site-packages (7.3.0)\n",
      "Requirement already satisfied: gym==0.26.2 in /home/iticbcn/Escritorio/CE/IA/Virtualsenv/RL/lib/python3.10/site-packages (0.26.2)\n",
      "Requirement already satisfied: numpy in /home/iticbcn/Escritorio/CE/IA/Virtualsenv/RL/lib/python3.10/site-packages (2.2.4)\n",
      "Requirement already satisfied: cloudpickle>=1.2.0 in /home/iticbcn/Escritorio/CE/IA/Virtualsenv/RL/lib/python3.10/site-packages (from gym==0.26.2) (3.1.1)\n",
      "Requirement already satisfied: gym_notices>=0.0.4 in /home/iticbcn/Escritorio/CE/IA/Virtualsenv/RL/lib/python3.10/site-packages (from gym==0.26.2) (0.0.8)\n",
      "Requirement already satisfied: nes-py>=8.0.0 in /home/iticbcn/Escritorio/CE/IA/Virtualsenv/RL/lib/python3.10/site-packages (from gym-super-mario-bros) (8.2.1)\n",
      "Requirement already satisfied: pyglet<=1.5.21,>=1.4.0 in /home/iticbcn/Escritorio/CE/IA/Virtualsenv/RL/lib/python3.10/site-packages (from nes-py>=8.0.0->gym-super-mario-bros) (1.5.21)\n",
      "Requirement already satisfied: tqdm>=4.48.2 in /home/iticbcn/Escritorio/CE/IA/Virtualsenv/RL/lib/python3.10/site-packages (from nes-py>=8.0.0->gym-super-mario-bros) (4.67.1)\n",
      "Note: you may need to restart the kernel to use updated packages.\n"
     ]
    }
   ],
   "source": [
    "%pip install gym-super-mario-bros gym==0.26.2 numpy"
   ]
  },
  {
   "cell_type": "code",
   "execution_count": 18,
   "metadata": {},
   "outputs": [],
   "source": [
    "import gym_super_mario_bros\n",
    "from nes_py.wrappers import JoypadSpace\n",
    "from gym_super_mario_bros.actions import SIMPLE_MOVEMENT"
   ]
  },
  {
   "cell_type": "code",
   "execution_count": 19,
   "metadata": {},
   "outputs": [
    {
     "ename": "OverflowError",
     "evalue": "Python integer 1024 out of bounds for uint8",
     "output_type": "error",
     "traceback": [
      "\u001b[0;31m---------------------------------------------------------------------------\u001b[0m",
      "\u001b[0;31mOverflowError\u001b[0m                             Traceback (most recent call last)",
      "Cell \u001b[0;32mIn[19], line 1\u001b[0m\n\u001b[0;32m----> 1\u001b[0m env \u001b[38;5;241m=\u001b[39m \u001b[43mgym_super_mario_bros\u001b[49m\u001b[38;5;241;43m.\u001b[39;49m\u001b[43mmake\u001b[49m\u001b[43m(\u001b[49m\u001b[38;5;124;43m'\u001b[39;49m\u001b[38;5;124;43mSuperMarioBros-v0\u001b[39;49m\u001b[38;5;124;43m'\u001b[39;49m\u001b[43m,\u001b[49m\u001b[43m \u001b[49m\u001b[43mrender_mode\u001b[49m\u001b[38;5;241;43m=\u001b[39;49m\u001b[38;5;124;43m'\u001b[39;49m\u001b[38;5;124;43mrgb_array\u001b[39;49m\u001b[38;5;124;43m'\u001b[39;49m\u001b[43m,\u001b[49m\u001b[43m \u001b[49m\u001b[43mapply_api_compatibility\u001b[49m\u001b[38;5;241;43m=\u001b[39;49m\u001b[38;5;28;43;01mTrue\u001b[39;49;00m\u001b[43m)\u001b[49m\n\u001b[1;32m      2\u001b[0m env \u001b[38;5;241m=\u001b[39m JoypadSpace(env, SIMPLE_MOVEMENT)\n",
      "File \u001b[0;32m~/Escritorio/CE/IA/Virtualsenv/RL/lib/python3.10/site-packages/gym/envs/registration.py:640\u001b[0m, in \u001b[0;36mmake\u001b[0;34m(id, max_episode_steps, autoreset, apply_api_compatibility, disable_env_checker, **kwargs)\u001b[0m\n\u001b[1;32m    637\u001b[0m     render_mode \u001b[38;5;241m=\u001b[39m \u001b[38;5;28;01mNone\u001b[39;00m\n\u001b[1;32m    639\u001b[0m \u001b[38;5;28;01mtry\u001b[39;00m:\n\u001b[0;32m--> 640\u001b[0m     env \u001b[38;5;241m=\u001b[39m \u001b[43menv_creator\u001b[49m\u001b[43m(\u001b[49m\u001b[38;5;241;43m*\u001b[39;49m\u001b[38;5;241;43m*\u001b[39;49m\u001b[43m_kwargs\u001b[49m\u001b[43m)\u001b[49m\n\u001b[1;32m    641\u001b[0m \u001b[38;5;28;01mexcept\u001b[39;00m \u001b[38;5;167;01mTypeError\u001b[39;00m \u001b[38;5;28;01mas\u001b[39;00m e:\n\u001b[1;32m    642\u001b[0m     \u001b[38;5;28;01mif\u001b[39;00m (\n\u001b[1;32m    643\u001b[0m         \u001b[38;5;28mstr\u001b[39m(e)\u001b[38;5;241m.\u001b[39mfind(\u001b[38;5;124m\"\u001b[39m\u001b[38;5;124mgot an unexpected keyword argument \u001b[39m\u001b[38;5;124m'\u001b[39m\u001b[38;5;124mrender_mode\u001b[39m\u001b[38;5;124m'\u001b[39m\u001b[38;5;124m\"\u001b[39m) \u001b[38;5;241m>\u001b[39m\u001b[38;5;241m=\u001b[39m \u001b[38;5;241m0\u001b[39m\n\u001b[1;32m    644\u001b[0m         \u001b[38;5;129;01mand\u001b[39;00m apply_human_rendering\n\u001b[1;32m    645\u001b[0m     ):\n",
      "File \u001b[0;32m~/Escritorio/CE/IA/Virtualsenv/RL/lib/python3.10/site-packages/gym_super_mario_bros/smb_env.py:52\u001b[0m, in \u001b[0;36mSuperMarioBrosEnv.__init__\u001b[0;34m(self, rom_mode, lost_levels, target)\u001b[0m\n\u001b[1;32m     50\u001b[0m rom \u001b[38;5;241m=\u001b[39m rom_path(lost_levels, rom_mode)\n\u001b[1;32m     51\u001b[0m \u001b[38;5;66;03m# initialize the super object with the ROM path\u001b[39;00m\n\u001b[0;32m---> 52\u001b[0m \u001b[38;5;28;43msuper\u001b[39;49m\u001b[43m(\u001b[49m\u001b[43mSuperMarioBrosEnv\u001b[49m\u001b[43m,\u001b[49m\u001b[43m \u001b[49m\u001b[38;5;28;43mself\u001b[39;49m\u001b[43m)\u001b[49m\u001b[38;5;241;43m.\u001b[39;49m\u001b[38;5;21;43m__init__\u001b[39;49m\u001b[43m(\u001b[49m\u001b[43mrom\u001b[49m\u001b[43m)\u001b[49m\n\u001b[1;32m     53\u001b[0m \u001b[38;5;66;03m# set the target world, stage, and area variables\u001b[39;00m\n\u001b[1;32m     54\u001b[0m target \u001b[38;5;241m=\u001b[39m decode_target(target, lost_levels)\n",
      "File \u001b[0;32m~/Escritorio/CE/IA/Virtualsenv/RL/lib/python3.10/site-packages/nes_py/nes_env.py:126\u001b[0m, in \u001b[0;36mNESEnv.__init__\u001b[0;34m(self, rom_path)\u001b[0m\n\u001b[1;32m    124\u001b[0m     \u001b[38;5;28;01mraise\u001b[39;00m \u001b[38;5;167;01mValueError\u001b[39;00m(\u001b[38;5;124m'\u001b[39m\u001b[38;5;124mROM has trainer. trainer is not supported.\u001b[39m\u001b[38;5;124m'\u001b[39m)\n\u001b[1;32m    125\u001b[0m \u001b[38;5;66;03m# try to read the PRG ROM and raise a value error if it fails\u001b[39;00m\n\u001b[0;32m--> 126\u001b[0m _ \u001b[38;5;241m=\u001b[39m \u001b[43mrom\u001b[49m\u001b[38;5;241;43m.\u001b[39;49m\u001b[43mprg_rom\u001b[49m\n\u001b[1;32m    127\u001b[0m \u001b[38;5;66;03m# try to read the CHR ROM and raise a value error if it fails\u001b[39;00m\n\u001b[1;32m    128\u001b[0m _ \u001b[38;5;241m=\u001b[39m rom\u001b[38;5;241m.\u001b[39mchr_rom\n",
      "File \u001b[0;32m~/Escritorio/CE/IA/Virtualsenv/RL/lib/python3.10/site-packages/nes_py/_rom.py:204\u001b[0m, in \u001b[0;36mROM.prg_rom\u001b[0;34m(self)\u001b[0m\n\u001b[1;32m    202\u001b[0m \u001b[38;5;250m\u001b[39m\u001b[38;5;124;03m\"\"\"Return the PRG ROM of the ROM file.\"\"\"\u001b[39;00m\n\u001b[1;32m    203\u001b[0m \u001b[38;5;28;01mtry\u001b[39;00m:\n\u001b[0;32m--> 204\u001b[0m     \u001b[38;5;28;01mreturn\u001b[39;00m \u001b[38;5;28mself\u001b[39m\u001b[38;5;241m.\u001b[39mraw_data[\u001b[38;5;28mself\u001b[39m\u001b[38;5;241m.\u001b[39mprg_rom_start:\u001b[38;5;28;43mself\u001b[39;49m\u001b[38;5;241;43m.\u001b[39;49m\u001b[43mprg_rom_stop\u001b[49m]\n\u001b[1;32m    205\u001b[0m \u001b[38;5;28;01mexcept\u001b[39;00m \u001b[38;5;167;01mIndexError\u001b[39;00m:\n\u001b[1;32m    206\u001b[0m     \u001b[38;5;28;01mraise\u001b[39;00m \u001b[38;5;167;01mValueError\u001b[39;00m(\u001b[38;5;124m'\u001b[39m\u001b[38;5;124mfailed to read PRG-ROM on ROM.\u001b[39m\u001b[38;5;124m'\u001b[39m)\n",
      "File \u001b[0;32m~/Escritorio/CE/IA/Virtualsenv/RL/lib/python3.10/site-packages/nes_py/_rom.py:198\u001b[0m, in \u001b[0;36mROM.prg_rom_stop\u001b[0;34m(self)\u001b[0m\n\u001b[1;32m    195\u001b[0m \u001b[38;5;129m@property\u001b[39m\n\u001b[1;32m    196\u001b[0m \u001b[38;5;28;01mdef\u001b[39;00m\u001b[38;5;250m \u001b[39m\u001b[38;5;21mprg_rom_stop\u001b[39m(\u001b[38;5;28mself\u001b[39m):\n\u001b[1;32m    197\u001b[0m \u001b[38;5;250m    \u001b[39m\u001b[38;5;124;03m\"\"\"The exclusive stopping index of the PRG ROM.\"\"\"\u001b[39;00m\n\u001b[0;32m--> 198\u001b[0m     \u001b[38;5;28;01mreturn\u001b[39;00m \u001b[38;5;28mself\u001b[39m\u001b[38;5;241m.\u001b[39mprg_rom_start \u001b[38;5;241m+\u001b[39m \u001b[38;5;28;43mself\u001b[39;49m\u001b[38;5;241;43m.\u001b[39;49m\u001b[43mprg_rom_size\u001b[49m\u001b[43m \u001b[49m\u001b[38;5;241;43m*\u001b[39;49m\u001b[43m \u001b[49m\u001b[38;5;241;43m2\u001b[39;49m\u001b[38;5;241;43m*\u001b[39;49m\u001b[38;5;241;43m*\u001b[39;49m\u001b[38;5;241;43m10\u001b[39;49m\n",
      "\u001b[0;31mOverflowError\u001b[0m: Python integer 1024 out of bounds for uint8"
     ]
    }
   ],
   "source": [
    "env = gym_super_mario_bros.make('SuperMarioBros-v0', render_mode='rgb_array', apply_api_compatibility=True)\n",
    "env = JoypadSpace(env, SIMPLE_MOVEMENT)"
   ]
  },
  {
   "cell_type": "markdown",
   "metadata": {},
   "source": [
    "# 2. Preprocess Environment\n"
   ]
  },
  {
   "cell_type": "markdown",
   "metadata": {},
   "source": [
    "# 3. Train the RL Model\n"
   ]
  },
  {
   "cell_type": "markdown",
   "metadata": {},
   "source": [
    "# 4. Test it Out\n"
   ]
  }
 ],
 "metadata": {
  "kernelspec": {
   "display_name": "RL",
   "language": "python",
   "name": "rl"
  },
  "language_info": {
   "codemirror_mode": {
    "name": "ipython",
    "version": 3
   },
   "file_extension": ".py",
   "mimetype": "text/x-python",
   "name": "python",
   "nbconvert_exporter": "python",
   "pygments_lexer": "ipython3",
   "version": "3.10.12"
  }
 },
 "nbformat": 4,
 "nbformat_minor": 2
}
