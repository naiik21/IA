{
 "cells": [
  {
   "cell_type": "markdown",
   "id": "8448f564-35e1-4400-8e1c-d99735ca6749",
   "metadata": {},
   "source": [
    "# Queens Problem\n",
    "\n",
    "### importem llibreries que utilitzarem i definim variables globals\n"
   ]
  },
  {
   "cell_type": "code",
   "execution_count": 94,
   "id": "7e71e39a-7d45-4d5c-a219-6ca99dec4cf1",
   "metadata": {},
   "outputs": [],
   "source": [
    "import numpy as np\n",
    "import random\n",
    "\n",
    "INITIAL_POPULATION = 100\n",
    "BOARD_SIZE = 10\n",
    "MUTATION_CHANCE = 20"
   ]
  },
  {
   "cell_type": "markdown",
   "id": "10fb9abc-bf8b-495f-acd2-7373b54171d2",
   "metadata": {},
   "source": [
    "### Definir Agent, població i display\n"
   ]
  },
  {
   "cell_type": "code",
   "execution_count": 95,
   "id": "4a5d0158-eda9-4551-b13c-568e09fdfcc4",
   "metadata": {},
   "outputs": [
    {
     "data": {
      "text/plain": [
       "array([[1., 0., 0., 0., 0., 0., 0., 0., 0., 0.],\n",
       "       [0., 0., 0., 0., 0., 0., 0., 0., 1., 0.],\n",
       "       [0., 0., 0., 0., 0., 0., 0., 1., 0., 0.],\n",
       "       [0., 0., 0., 0., 0., 0., 0., 0., 0., 1.],\n",
       "       [0., 0., 0., 1., 0., 0., 0., 0., 0., 0.],\n",
       "       [0., 0., 0., 0., 1., 0., 0., 0., 0., 0.],\n",
       "       [0., 1., 0., 0., 0., 0., 0., 0., 0., 0.],\n",
       "       [0., 0., 0., 0., 0., 0., 1., 0., 0., 0.],\n",
       "       [0., 0., 0., 0., 0., 1., 0., 0., 0., 0.],\n",
       "       [0., 0., 1., 0., 0., 0., 0., 0., 0., 0.]])"
      ]
     },
     "execution_count": 95,
     "metadata": {},
     "output_type": "execute_result"
    }
   ],
   "source": [
    "def init_agent(board_size):\n",
    "    agent= list(range(1,board_size+1))\n",
    "    random.shuffle(agent)\n",
    "    return agent\n",
    "            \n",
    "\n",
    "def display_agent(agent):\n",
    "    array_zeroes = np.zeros((len(agent),len(agent)))\n",
    "    count=0\n",
    "    for x in agent:\n",
    "        array_zeroes[count][x-1]=1\n",
    "        count+=1\n",
    "    return array_zeroes\n",
    "\n",
    "def init_population(initial_population_size, board_size):\n",
    "    population=[]\n",
    "    for x in range(0, initial_population_size):\n",
    "        population.append(init_agent(board_size))\n",
    "        \n",
    "    return population\n",
    "\n",
    "\n",
    "\n",
    "display_agent(init_agent(BOARD_SIZE))\n"
   ]
  },
  {
   "cell_type": "markdown",
   "id": "bea5aa31-863f-49b2-b04a-30c1cf3b6ed7",
   "metadata": {},
   "source": [
    "### definir crossover\n"
   ]
  },
  {
   "cell_type": "code",
   "execution_count": 96,
   "id": "2ced517d-25bd-48b9-9ca0-ef06c5a0634c",
   "metadata": {},
   "outputs": [],
   "source": [
    "def crossover(parent1, parent2):\n",
    "    leng= len(parent1)+1\n",
    "    half=int(leng/2)\n",
    "    soon=parent1[0:half]\n",
    "    for x in parent2:\n",
    "        if x not in soon : soon.append(x)\n",
    "    soon2=parent2[0:half]\n",
    "    for x in parent1:\n",
    "        if x not in soon2 : soon2.append(x)\n",
    "    return soon, soon2"
   ]
  },
  {
   "cell_type": "markdown",
   "id": "35d86c53-bc6e-4241-98a7-2c45a4729c39",
   "metadata": {},
   "source": [
    "### definir mutació\n"
   ]
  },
  {
   "cell_type": "code",
   "execution_count": 97,
   "id": "aa4e906a-bc48-474f-9420-ad4e5f35cd95",
   "metadata": {},
   "outputs": [],
   "source": [
    "def mutation(agent, board_size):\n",
    "    pos1= random.randint(0,board_size-1)\n",
    "    pos2= random.randint(0,board_size-1)\n",
    "    agent[pos2], agent[pos1] = agent[pos1], agent[pos2]\n",
    "    return agent\n",
    "    \n",
    "\n",
    "def mutation_with_chance(agent, mutation_chance):\n",
    "    chance= random.randint(1,100)\n",
    "    if chance <= mutation_chance:\n",
    "        agent=mutation(agent, BOARD_SIZE)\n",
    "    return agent\n"
   ]
  },
  {
   "cell_type": "markdown",
   "id": "1eb0be7a-7aa3-42f2-83f9-b724cd88ec75",
   "metadata": {},
   "source": [
    "### definir crossover de tota la població amb mutació\n"
   ]
  },
  {
   "cell_type": "code",
   "execution_count": 98,
   "id": "36de1291-096a-4204-ae97-802a8574d4a1",
   "metadata": {},
   "outputs": [],
   "source": [
    "\n",
    "def replicate(population, mutation_chance):\n",
    "    soons=[]\n",
    "    \n",
    "    for x in range(0, len(population),2):\n",
    "        try:\n",
    "            soons.extend(crossover(population[x], population[x+1]))\n",
    "        except:\n",
    "            soons.extend(population[x])\n",
    "    for agent in soons:\n",
    "        mutation_with_chance(agent, mutation_chance)\n",
    "    \n",
    "    return soons\n",
    "'''\n",
    "def replicate(population, mutation_chance):\n",
    "    aux=population.copy()\n",
    "    soons=[]\n",
    "    \n",
    "    while len(aux) != 0:\n",
    "        par1=random.randint(0,len(aux)-1)\n",
    "        par2=random.randint(0,len(aux)-2)\n",
    "        try:\n",
    "            soons.extend(crossover(population[par1], population[par2]))\n",
    "            aux.remove(par1)\n",
    "            aux.remove(par2)\n",
    "        except:\n",
    "            soons.extend(population[par1])\n",
    "            aux.remove(par1)\n",
    "    for agent in soons:\n",
    "        mutation_with_chance(agent, mutation_chance)\n",
    "    \n",
    "    return soons\n",
    "'''"
   ]
  },
  {
   "cell_type": "markdown",
   "id": "616dbe98-22ac-4a89-8f75-00ba12c44a5d",
   "metadata": {},
   "source": [
    "### definir fitness function\n",
    "\n",
    "mirar diagonals i treure repetides\n"
   ]
  },
  {
   "cell_type": "code",
   "execution_count": 99,
   "id": "66163304-e8d5-4c87-ae68-e3c62505f93b",
   "metadata": {},
   "outputs": [],
   "source": [
    "def fitness_agent(agent):\n",
    "    display=display_agent(agent)\n",
    "    fitness=0\n",
    "\n",
    "    for i in range(len(display)):\n",
    "        for j in range(len(display[i])):\n",
    "            if display[i][j] == 1:  # Encontramos un 1\n",
    "                # Verificamos las diagonales y sumamos al contador global\n",
    "                fitness += verificar_diagonales(display, i, j)\n",
    "\n",
    "    return fitness\n",
    "        \n",
    "\n",
    "\n",
    "# Función para verificar las diagonales\n",
    "def verificar_diagonales(matriz, fila, col):\n",
    "    n = len(matriz)\n",
    "    # Inicializamos el contador para esta posición\n",
    "    contador_local = 0\n",
    "    # Verificamos la diagonal superior izquierda\n",
    "    i, j = fila - 1, col - 1\n",
    "    while i >= 0 and j >= 0:\n",
    "        if matriz[i][j] == 1:\n",
    "            contador_local += 1\n",
    "        i -= 1\n",
    "        j -= 1\n",
    "\n",
    "    # Verificamos la diagonal inferior derecha\n",
    "    i, j = fila + 1, col + 1\n",
    "    while i < n and j < n:\n",
    "        if matriz[i][j] == 1:\n",
    "            contador_local += 1\n",
    "        i += 1\n",
    "        j += 1\n",
    "\n",
    "    # Verificamos la diagonal superior derecha\n",
    "    i, j = fila - 1, col + 1\n",
    "    while i >= 0 and j < n:\n",
    "        if matriz[i][j] == 1:\n",
    "            contador_local += 1\n",
    "        i -= 1\n",
    "        j += 1\n",
    "\n",
    "    # Verificamos la diagonal inferior izquierda\n",
    "    i, j = fila + 1, col - 1\n",
    "    while i < n and j >= 0:\n",
    "        if matriz[i][j] == 1:\n",
    "            contador_local += 1\n",
    "        i += 1\n",
    "        j -= 1\n",
    "\n",
    "    return contador_local\n",
    "    \n",
    "\n",
    "def fitness_population(population):\n",
    "    fitness=[]\n",
    "    for agent in population:\n",
    "        fitness.append(fitness_agent(agent))\n",
    "    return fitness\n",
    "\n"
   ]
  },
  {
   "cell_type": "markdown",
   "id": "56c5cdb9-8643-4977-ae24-ad7d0803b5ee",
   "metadata": {},
   "source": [
    "### Population Selection (by score)\n"
   ]
  },
  {
   "cell_type": "code",
   "execution_count": 100,
   "id": "7546660e-f015-4d28-afc2-d0b8f18ec13b",
   "metadata": {},
   "outputs": [],
   "source": [
    "def sort_population(population, fitness_list):\n",
    "    aux=zip(population, fitness_list)\n",
    "    aux=sorted(aux, key=lambda x: x[1])\n",
    "    population,fitness_list=zip(*aux)\n",
    "    return population\n",
    "\n",
    "def select_population(population, fitness_list, population_size, pie_vector):\n",
    "    population=sort_population(population, fitness_list)\n",
    "    new_population=[]\n",
    "    #Primeros\n",
    "    new_population.extend(population[:int(pie_vector[0]*population_size)])\n",
    "    #Ultimos\n",
    "    new_population.extend(population[-int(pie_vector[1]*population_size):])\n",
    "    #Mitad\n",
    "    aux=population[:int(pie_vector[0]*population_size)]\n",
    "    new_population.extend(aux[:int((pie_vector[2])*population_size)])\n",
    "    return new_population\n",
    "\n"
   ]
  },
  {
   "cell_type": "markdown",
   "id": "625d470e-2ff7-4b13-aa11-2b2d7bf6ad03",
   "metadata": {},
   "source": [
    "### definir main\n",
    "\n",
    "(seguir els pasos de classe)\n"
   ]
  },
  {
   "cell_type": "code",
   "execution_count": 101,
   "id": "8923523c-03a6-4390-9892-8823c4368754",
   "metadata": {},
   "outputs": [],
   "source": [
    "import time\n",
    "\n",
    "\n",
    "def main(initial_population, board_size, pie_vector, mutation_change):\n",
    "    pre = time.time()\n",
    "    _population = init_population(initial_population, board_size)\n",
    "    print(time.time()-pre)\n",
    "    _agent = _population[0]\n",
    "    best_fitness=10\n",
    "    \n",
    "    gen=0\n",
    "\n",
    "    while best_fitness!=0:\n",
    "        soons=replicate(_population, mutation_change)\n",
    "        _population.extend(soons)\n",
    "        \n",
    "        fitness_list=fitness_population(_population)\n",
    "        \n",
    "        \n",
    "        _population=select_population(_population, fitness_list, initial_population, pie_vector)\n",
    "        _population=list(_population)\n",
    "        best_fitness=fitness_list[0]\n",
    "        \n",
    "        gen+=1\n",
    "        \n",
    "        if gen%10==0:\n",
    "            print(\"current gen: \",gen, \"best fitness: \", fitness_list[0])\n",
    "    print(_agent)\n",
    "    print(gen)\n",
    "\n",
    "        \n",
    "    return _population[0]\n",
    " \n",
    "# main(INITIAL_POPULATION, BOARD_SIZE, [0.6,0.1,0.3], 10)"
   ]
  },
  {
   "cell_type": "markdown",
   "id": "59e2b56a-9ff9-44cb-a484-146b76ffaf1f",
   "metadata": {},
   "source": [
    "### Provar el codi\n"
   ]
  },
  {
   "cell_type": "code",
   "execution_count": 102,
   "id": "5a89a6d1-22ff-43f4-ae92-6cbf19746e73",
   "metadata": {},
   "outputs": [
    {
     "name": "stdout",
     "output_type": "stream",
     "text": [
      "0.0018312931060791016\n"
     ]
    },
    {
     "ename": "ValueError",
     "evalue": "list.remove(x): x not in list",
     "output_type": "error",
     "traceback": [
      "\u001b[0;31m---------------------------------------------------------------------------\u001b[0m",
      "\u001b[0;31mValueError\u001b[0m                                Traceback (most recent call last)",
      "Cell \u001b[0;32mIn[98], line 24\u001b[0m, in \u001b[0;36mreplicate\u001b[0;34m(population, mutation_chance)\u001b[0m\n\u001b[1;32m     23\u001b[0m soons\u001b[38;5;241m.\u001b[39mextend(crossover(population[par1], population[par2]))\n\u001b[0;32m---> 24\u001b[0m \u001b[43maux\u001b[49m\u001b[38;5;241;43m.\u001b[39;49m\u001b[43mremove\u001b[49m\u001b[43m(\u001b[49m\u001b[43mpar1\u001b[49m\u001b[43m)\u001b[49m\n\u001b[1;32m     25\u001b[0m aux\u001b[38;5;241m.\u001b[39mremove(par2)\n",
      "\u001b[0;31mValueError\u001b[0m: list.remove(x): x not in list",
      "\nDuring handling of the above exception, another exception occurred:\n",
      "\u001b[0;31mValueError\u001b[0m                                Traceback (most recent call last)",
      "Cell \u001b[0;32mIn[102], line 7\u001b[0m\n\u001b[1;32m      4\u001b[0m pie_vector\u001b[38;5;241m=\u001b[39m[\u001b[38;5;241m0.7\u001b[39m,\u001b[38;5;241m0.2\u001b[39m,\u001b[38;5;241m0\u001b[39m,\u001b[38;5;241m1\u001b[39m]\n\u001b[1;32m      6\u001b[0m random\u001b[38;5;241m.\u001b[39mseed(\u001b[38;5;241m21\u001b[39m)\n\u001b[0;32m----> 7\u001b[0m agent \u001b[38;5;241m=\u001b[39m \u001b[43mmain\u001b[49m\u001b[43m(\u001b[49m\u001b[43mPOPULATION_SIZE\u001b[49m\u001b[43m,\u001b[49m\u001b[43m \u001b[49m\u001b[43mBOARD_SIZE\u001b[49m\u001b[43m,\u001b[49m\u001b[43m \u001b[49m\u001b[43mpie_vector\u001b[49m\u001b[43m,\u001b[49m\u001b[43m \u001b[49m\u001b[43mMUTATION_CHANCE\u001b[49m\u001b[43m)\u001b[49m\n\u001b[1;32m      8\u001b[0m display_agent(agent)\n",
      "Cell \u001b[0;32mIn[101], line 14\u001b[0m, in \u001b[0;36mmain\u001b[0;34m(initial_population, board_size, pie_vector, mutation_change)\u001b[0m\n\u001b[1;32m     11\u001b[0m gen\u001b[38;5;241m=\u001b[39m\u001b[38;5;241m0\u001b[39m\n\u001b[1;32m     13\u001b[0m \u001b[38;5;28;01mwhile\u001b[39;00m best_fitness\u001b[38;5;241m!=\u001b[39m\u001b[38;5;241m0\u001b[39m:\n\u001b[0;32m---> 14\u001b[0m     soons\u001b[38;5;241m=\u001b[39m\u001b[43mreplicate\u001b[49m\u001b[43m(\u001b[49m\u001b[43m_population\u001b[49m\u001b[43m,\u001b[49m\u001b[43m \u001b[49m\u001b[43mmutation_change\u001b[49m\u001b[43m)\u001b[49m\n\u001b[1;32m     15\u001b[0m     _population\u001b[38;5;241m.\u001b[39mextend(soons)\n\u001b[1;32m     17\u001b[0m     fitness_list\u001b[38;5;241m=\u001b[39mfitness_population(_population)\n",
      "Cell \u001b[0;32mIn[98], line 28\u001b[0m, in \u001b[0;36mreplicate\u001b[0;34m(population, mutation_chance)\u001b[0m\n\u001b[1;32m     26\u001b[0m     \u001b[38;5;28;01mexcept\u001b[39;00m:\n\u001b[1;32m     27\u001b[0m         soons\u001b[38;5;241m.\u001b[39mextend(population[par1])\n\u001b[0;32m---> 28\u001b[0m         \u001b[43maux\u001b[49m\u001b[38;5;241;43m.\u001b[39;49m\u001b[43mremove\u001b[49m\u001b[43m(\u001b[49m\u001b[43mpar1\u001b[49m\u001b[43m)\u001b[49m\n\u001b[1;32m     29\u001b[0m \u001b[38;5;28;01mfor\u001b[39;00m agent \u001b[38;5;129;01min\u001b[39;00m soons:\n\u001b[1;32m     30\u001b[0m     mutation_with_chance(agent, mutation_chance)\n",
      "\u001b[0;31mValueError\u001b[0m: list.remove(x): x not in list"
     ]
    }
   ],
   "source": [
    "POPULATION_SIZE = 80\n",
    "BOARD_SIZE = 100\n",
    "MUTATION_CHANCE = 25\n",
    "pie_vector=[0.7,0.2,0,1]\n",
    "\n",
    "random.seed(21)\n",
    "agent = main(POPULATION_SIZE, BOARD_SIZE, pie_vector, MUTATION_CHANCE)\n",
    "display_agent(agent)"
   ]
  }
 ],
 "metadata": {
  "kernelspec": {
   "display_name": "Python 3 (ipykernel)",
   "language": "python",
   "name": "python3"
  },
  "language_info": {
   "codemirror_mode": {
    "name": "ipython",
    "version": 3
   },
   "file_extension": ".py",
   "mimetype": "text/x-python",
   "name": "python",
   "nbconvert_exporter": "python",
   "pygments_lexer": "ipython3",
   "version": "3.10.12"
  }
 },
 "nbformat": 4,
 "nbformat_minor": 5
}
